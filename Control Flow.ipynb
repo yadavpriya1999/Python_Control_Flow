{
 "cells": [
  {
   "cell_type": "markdown",
   "id": "4f11431f",
   "metadata": {},
   "source": [
    "# Basic If-Else Statements"
   ]
  },
  {
   "cell_type": "code",
   "execution_count": 31,
   "id": "886a33a0",
   "metadata": {},
   "outputs": [
    {
     "name": "stdout",
     "output_type": "stream",
     "text": [
      "The number is positive.\n",
      "The number is negative.\n"
     ]
    }
   ],
   "source": [
    "#1. Write a Python program to check if a given number is positive or negative.\n",
    "def check_number(num):\n",
    "    if num > 0:\n",
    "        return \"The number is positive.\"\n",
    "    elif num < 0:\n",
    "        return \"The number is negative.\"\n",
    "    else:\n",
    "        return \"The number is zero.\"\n",
    "number1 = 10\n",
    "number2 = -99\n",
    "result1 = check_number(number1)\n",
    "result2 = check_number(number2)\n",
    "print(result1)\n",
    "print(result2)"
   ]
  },
  {
   "cell_type": "code",
   "execution_count": 32,
   "id": "76f0ad15",
   "metadata": {},
   "outputs": [
    {
     "name": "stdout",
     "output_type": "stream",
     "text": [
      "Enter your age: 34\n",
      "You are eligible to vote.\n"
     ]
    }
   ],
   "source": [
    "#2. Create a program that determines if a person is eligible to vote based on their age.\n",
    "def check_voting_eligibility(age):\n",
    "    if age >= 18:\n",
    "        return \"You are eligible to vote.\"\n",
    "    else:\n",
    "        return \"You are not eligible to vote.\"\n",
    "age = int(input(\"Enter your age: \"))\n",
    "result = check_voting_eligibility(age)\n",
    "print(result)"
   ]
  },
  {
   "cell_type": "code",
   "execution_count": 33,
   "id": "50602c73",
   "metadata": {},
   "outputs": [
    {
     "name": "stdout",
     "output_type": "stream",
     "text": [
      "Enter the first number: 23\n",
      "Enter the second number: 34\n",
      "The maximum number is: 34.0\n"
     ]
    }
   ],
   "source": [
    "#3. Develop a program to find the maximum of two numbers using if-else statements.\n",
    "def find_maximum(num1, num2):\n",
    "    if num1 > num2:\n",
    "        return num1\n",
    "    elif num2 > num1:\n",
    "        return num2\n",
    "    else:\n",
    "        return \"Both numbers are equal.\"\n",
    "number1 = float(input(\"Enter the first number: \"))\n",
    "number2 = float(input(\"Enter the second number: \"))\n",
    "result = find_maximum(number1, number2)\n",
    "print(f\"The maximum number is: {result}\")"
   ]
  },
  {
   "cell_type": "code",
   "execution_count": 34,
   "id": "7ff395e2",
   "metadata": {},
   "outputs": [
    {
     "name": "stdout",
     "output_type": "stream",
     "text": [
      "Enter a year: 2024\n",
      "2024 is a leap year.\n"
     ]
    }
   ],
   "source": [
    "# 4. Write a Python script to classify a given year as a leap year or not.\n",
    "def is_leap_year(year):\n",
    "    if (year % 4 == 0):\n",
    "        if (year % 100 == 0):\n",
    "            if (year % 400 == 0):\n",
    "                return True\n",
    "            else:\n",
    "                return False\n",
    "        else:\n",
    "            return True\n",
    "    else:\n",
    "        return False\n",
    "year = int(input(\"Enter a year: \"))\n",
    "if is_leap_year(year):\n",
    "    print(f\"{year} is a leap year.\")\n",
    "else:\n",
    "    print(f\"{year} is not a leap year.\")"
   ]
  },
  {
   "cell_type": "code",
   "execution_count": 35,
   "id": "60fc8896",
   "metadata": {},
   "outputs": [
    {
     "name": "stdout",
     "output_type": "stream",
     "text": [
      "Enter a character: a\n",
      "'a' is a vowel.\n"
     ]
    }
   ],
   "source": [
    "#5. Create a program that checks whether a character is a vowel or a consonant.\n",
    "def check_vowel_or_consonant(char):\n",
    "    vowels = 'aeiouAEIOU'\n",
    "    if len(char) == 1 and char.isalpha():\n",
    "        if char in vowels:\n",
    "            return f\"'{char}' is a vowel.\"\n",
    "        else:\n",
    "            return f\"'{char}' is a consonant.\"\n",
    "    else:\n",
    "        return \"Please enter a single alphabetic character.\"\n",
    "character = input(\"Enter a character: \")\n",
    "result = check_vowel_or_consonant(character)\n",
    "print(result)"
   ]
  },
  {
   "cell_type": "code",
   "execution_count": 36,
   "id": "1bae0781",
   "metadata": {},
   "outputs": [
    {
     "name": "stdout",
     "output_type": "stream",
     "text": [
      "Enter a number: 568\n",
      "568 is even.\n"
     ]
    }
   ],
   "source": [
    "#6. Implement a program to determine whether a given number is even or odd.\n",
    "def check_even_odd(number):\n",
    "    if number % 2 == 0:\n",
    "        return f\"{number} is even.\"\n",
    "    else:\n",
    "        return f\"{number} is odd.\"\n",
    "number = int(input(\"Enter a number: \"))\n",
    "result = check_even_odd(number)\n",
    "print(result)"
   ]
  },
  {
   "cell_type": "code",
   "execution_count": 37,
   "id": "db9eb918",
   "metadata": {},
   "outputs": [
    {
     "name": "stdout",
     "output_type": "stream",
     "text": [
      "Enter a number: -3456\n",
      "The absolute value of -3456.0 is 3456.0.\n"
     ]
    }
   ],
   "source": [
    "#7. Write a Python function to calculate the absolute value of a number without using the `abs()` function.\n",
    "def calculate_absolute_value(number):\n",
    "    if number < 0:\n",
    "        return -number\n",
    "    else:\n",
    "        return number\n",
    "number = float(input(\"Enter a number: \"))\n",
    "result = calculate_absolute_value(number)\n",
    "print(f\"The absolute value of {number} is {result}.\")"
   ]
  },
  {
   "cell_type": "code",
   "execution_count": 38,
   "id": "abe1fde7",
   "metadata": {},
   "outputs": [
    {
     "name": "stdout",
     "output_type": "stream",
     "text": [
      "Enter the first number: 12\n",
      "Enter the second number: 45\n",
      "Enter the third number: 89\n",
      "The largest number among  is: 89.\n"
     ]
    }
   ],
   "source": [
    "#8. Develop a program that determines the largest of three given numbers using if-else statements.\n",
    "\n",
    "def find_largest_number(num1, num2, num3):\n",
    "    if num1 >= num2 and num1 >= num3:\n",
    "        largest = num1\n",
    "    elif num2 >= num1 and num2 >= num3:\n",
    "        largest = num2\n",
    "    else:\n",
    "        largest = num3\n",
    "    return largest\n",
    "num1 = input(\"Enter the first number: \")\n",
    "num2 = input(\"Enter the second number: \")\n",
    "num3 = input(\"Enter the third number: \")\n",
    "\n",
    "largest_number = find_largest_number(num1, num2, num3)\n",
    "print(f\"The largest number among  is: {largest_number}.\")"
   ]
  },
  {
   "cell_type": "code",
   "execution_count": 39,
   "id": "c23591d5",
   "metadata": {},
   "outputs": [
    {
     "name": "stdout",
     "output_type": "stream",
     "text": [
      "Enter a string: naman\n",
      "Palindrome.\n"
     ]
    }
   ],
   "source": [
    "#9. Create a program that checks if a given string is a palindrome.\n",
    "def is_palindrome(s):\n",
    "    return s == s[::-1]\n",
    "string = input(\"Enter a string: \")\n",
    "if is_palindrome(string):\n",
    "    print(\"Palindrome.\")\n",
    "else:\n",
    "    print(\" Not a Palindrome.\")"
   ]
  },
  {
   "cell_type": "code",
   "execution_count": 40,
   "id": "3ecf5fab",
   "metadata": {},
   "outputs": [
    {
     "name": "stdout",
     "output_type": "stream",
     "text": [
      "Enter the student's score (0-100): 58\n",
      "The grade for a score of 58.0 is F.\n"
     ]
    }
   ],
   "source": [
    "#10. Write a Python program to calculate the grade based on a student's score.\n",
    "def calculate_grade(score):\n",
    "    if score >= 90:\n",
    "        return 'A'\n",
    "    elif score >= 80:\n",
    "        return 'B'\n",
    "    elif score >= 70:\n",
    "        return 'C'\n",
    "    elif score >= 60:\n",
    "        return 'D'\n",
    "    else:\n",
    "        return 'F'\n",
    "try:\n",
    "    score = float(input(\"Enter the student's score (0-100): \"))\n",
    "    if 0 <= score <= 100:\n",
    "        grade = calculate_grade(score)\n",
    "        print(f\"The grade for a score of {score} is {grade}.\")\n",
    "    else:\n",
    "        print(\"Please enter a score between 0 and 100.\")\n",
    "except ValueError:\n",
    "    print(\"Invalid input. Please enter a numerical score.\")"
   ]
  },
  {
   "cell_type": "markdown",
   "id": "ec7f65d9",
   "metadata": {},
   "source": [
    "# Nested If-Else Statements:"
   ]
  },
  {
   "cell_type": "code",
   "execution_count": 41,
   "id": "3c79e969",
   "metadata": {},
   "outputs": [
    {
     "name": "stdout",
     "output_type": "stream",
     "text": [
      "Enter the first number: 34\n",
      "Enter the second number: 89\n",
      "Enter the third number: 12\n",
      "The largest number among is: 89.\n"
     ]
    }
   ],
   "source": [
    "#11. Write a program to find the largest among three numbers using nested if-else statements.\n",
    "def find_largest_number(num1, num2, num3):\n",
    "    if num1 >= num2:\n",
    "        if num1 >= num3:\n",
    "            largest = num1\n",
    "        else:\n",
    "            largest = num3\n",
    "    else:\n",
    "        if num2 >= num3:\n",
    "            largest = num2\n",
    "        else:\n",
    "            largest = num3\n",
    "    return largest\n",
    "num1 = input(\"Enter the first number: \")\n",
    "num2 = input(\"Enter the second number: \")\n",
    "num3 = input(\"Enter the third number: \")\n",
    "\n",
    "largest_number = find_largest_number(num1, num2, num3)\n",
    "print(f\"The largest number among is: {largest_number}.\")"
   ]
  },
  {
   "cell_type": "code",
   "execution_count": 42,
   "id": "d2f409ca",
   "metadata": {},
   "outputs": [
    {
     "name": "stdout",
     "output_type": "stream",
     "text": [
      "Enter the length of the first side: 12\n",
      "Enter the length of the second side: 12\n",
      "Enter the length of the third side: 12\n",
      "A triangle with sides is Equilateral.\n"
     ]
    }
   ],
   "source": [
    "#12. Implement a program to determine if a triangle is equilateral, isosceles, or scalene.\n",
    "def determine_triangle_type(side1, side2, side3):\n",
    "    if side1 == side2 == side3:\n",
    "        return \"Equilateral\"\n",
    "    elif side1 == side2 or side2 == side3 or side1 == side3:\n",
    "        return \"Isosceles\"\n",
    "    else:\n",
    "        return \"Scalene\"\n",
    "try:\n",
    "    side1 = float(input(\"Enter the length of the first side: \"))\n",
    "    side2 = float(input(\"Enter the length of the second side: \"))\n",
    "    side3 = float(input(\"Enter the length of the third side: \"))\n",
    "\n",
    "    if side1 > 0 and side2 > 0 and side3 > 0:\n",
    "        triangle_type = determine_triangle_type(side1, side2, side3)\n",
    "        print(f\"A triangle with sides is {triangle_type}.\")\n",
    "    else:\n",
    "        print(\"Side lengths must be positive numbers.\")\n",
    "except ValueError:\n",
    "    print(\"Invalid input. Please enter numerical values for the sides.\")"
   ]
  },
  {
   "cell_type": "code",
   "execution_count": 43,
   "id": "27aa4f2f",
   "metadata": {},
   "outputs": [
    {
     "name": "stdout",
     "output_type": "stream",
     "text": [
      "Enter a year: 2010\n",
      "2010 is not a leap year.\n",
      "2010 is not a century year.\n"
     ]
    }
   ],
   "source": [
    "#13. Develop a program that checks if a year is a leap year and also if it is a century year.\n",
    "def is_leap_year(year):\n",
    "    return (year % 4 == 0 and year % 100 != 0) or (year % 400 == 0)\n",
    "\n",
    "def is_century_year(year):\n",
    "    return year % 100 == 0\n",
    "try:\n",
    "    year = int(input(\"Enter a year: \"))\n",
    "\n",
    "    if year > 0:\n",
    "        if is_leap_year(year):\n",
    "            print(f\"{year} is a leap year.\")\n",
    "        else:\n",
    "            print(f\"{year} is not a leap year.\")\n",
    "\n",
    "        if is_century_year(year):\n",
    "            print(f\"{year} is a century year.\")\n",
    "        else:\n",
    "            print(f\"{year} is not a century year.\")\n",
    "    else:\n",
    "        print(\"Please enter a positive year.\")\n",
    "except ValueError:\n",
    "    print(\"Invalid input. Please enter a numerical year.\")"
   ]
  },
  {
   "cell_type": "code",
   "execution_count": 44,
   "id": "36c4ced9",
   "metadata": {},
   "outputs": [
    {
     "name": "stdout",
     "output_type": "stream",
     "text": [
      "Enter a number: -0987\n",
      "The number is: Negative.\n"
     ]
    }
   ],
   "source": [
    "#14. Write a Python script to determine if a number is positive, negative, or zero.\n",
    "def check_number(num):\n",
    "    if num > 0:\n",
    "        return \"Positive\"\n",
    "    elif num < 0:\n",
    "        return \"Negative\"\n",
    "    else:\n",
    "        return \"Zero\"\n",
    "try:\n",
    "    num = float(input(\"Enter a number: \"))\n",
    "    result = check_number(num)\n",
    "    print(f\"The number is: {result}.\")\n",
    "except ValueError:\n",
    "    print(\"Invalid input. Please enter a numerical value.\")"
   ]
  },
  {
   "cell_type": "code",
   "execution_count": 45,
   "id": "d41794a4",
   "metadata": {},
   "outputs": [
    {
     "name": "stdout",
     "output_type": "stream",
     "text": [
      "Enter your age: 24\n",
      "You are not a teenager.\n"
     ]
    }
   ],
   "source": [
    "#15. Create a program to check if a person is a teenager (between 13 and 19 years old).\n",
    "def is_teenager(age):\n",
    "    return 13 <= age <= 19\n",
    "try:\n",
    "    age = int(input(\"Enter your age: \"))\n",
    "    \n",
    "    if is_teenager(age):\n",
    "        print(\"You are a teenager.\")\n",
    "    else:\n",
    "        print(\"You are not a teenager.\")\n",
    "except ValueError:\n",
    "    print(\"Invalid input. Please enter a numerical age.\")"
   ]
  },
  {
   "cell_type": "code",
   "execution_count": 46,
   "id": "5ce61a3e",
   "metadata": {},
   "outputs": [
    {
     "name": "stdout",
     "output_type": "stream",
     "text": [
      "Enter the angle measure (in degrees): 89\n",
      "The angle degrees is : Acute.\n"
     ]
    }
   ],
   "source": [
    "#16. Develop a program that determines the type of angle based on its measure (acute, obtuse, or right).\n",
    "def determine_angle_type(angle):\n",
    "    if angle > 0 and angle < 90:\n",
    "        return \"Acute\"\n",
    "    elif angle == 90:\n",
    "        return \"Right\"\n",
    "    elif angle > 90 and angle < 180:\n",
    "        return \"Obtuse\"\n",
    "    elif angle == 180:\n",
    "        return \"Straight\"\n",
    "    else:\n",
    "        return \"Invalid\"\n",
    "try:\n",
    "    angle = float(input(\"Enter the angle measure (in degrees): \"))\n",
    "    \n",
    "    angle_type = determine_angle_type(angle)\n",
    "    if angle_type != \"Invalid\":\n",
    "        print(f\"The angle degrees is : {angle_type}.\")\n",
    "    else:\n",
    "        print(\"Invalid angle measure. Please enter a valid angle.\")\n",
    "except ValueError:\n",
    "    print(\"Invalid input. Please enter a numerical angle measure.\")"
   ]
  },
  {
   "cell_type": "code",
   "execution_count": 47,
   "id": "0bc87440",
   "metadata": {},
   "outputs": [
    {
     "name": "stdout",
     "output_type": "stream",
     "text": [
      "The roots of the quadratic equation are real:\n",
      "Root 1: 2.0\n",
      "Root 2: 1.0\n"
     ]
    }
   ],
   "source": [
    "#17. Write a Python program to calculate the roots of a quadratic equation.\n",
    "import math\n",
    "\n",
    "def find_roots(a, b, c):\n",
    "    discriminant = b**2 - 4*a*c\n",
    "    \n",
    "    if discriminant > 0:\n",
    "        root1 = (-b + math.sqrt(discriminant)) / (2*a)\n",
    "        root2 = (-b - math.sqrt(discriminant)) / (2*a)\n",
    "        return root1, root2\n",
    "    elif discriminant == 0:\n",
    "        root = -b / (2*a)\n",
    "        return root, root\n",
    "    else:\n",
    "        real_part = -b / (2*a)\n",
    "        imaginary_part = math.sqrt(abs(discriminant)) / (2*a)\n",
    "        root1 = complex(real_part, imaginary_part)\n",
    "        root2 = complex(real_part, -imaginary_part)\n",
    "        return root1, root2\n",
    "\n",
    "a = 1\n",
    "b = -3\n",
    "c = 2\n",
    "\n",
    "if a == 0:\n",
    "    print(\"The equation is not quadratic (a should not be zero).\")\n",
    "else:\n",
    "    roots = find_roots(a, b, c)\n",
    "    if isinstance(roots[0], complex):\n",
    "        print(f\"The roots of the quadratic equation are complex:\")\n",
    "        print(f\"Root 1: {roots[0]}\")\n",
    "        print(f\"Root 2: {roots[1]}\")\n",
    "    else:\n",
    "        print(f\"The roots of the quadratic equation are real:\")\n",
    "        print(f\"Root 1: {roots[0]}\")\n",
    "        print(f\"Root 2: {roots[1]}\")"
   ]
  },
  {
   "cell_type": "code",
   "execution_count": 48,
   "id": "5afaef38",
   "metadata": {},
   "outputs": [
    {
     "name": "stdout",
     "output_type": "stream",
     "text": [
      "Enter a number (1 for Monday, 2 for Tuesday, etc.): 4\n",
      "The day corresponding to number 4 is Thursday.\n"
     ]
    }
   ],
   "source": [
    "#18. Implement a program to determine the day of the week based on a user-provided number (1 for Monday, 2for Tuesday, etc.).\n",
    "def get_day_of_week(number):\n",
    "    days_of_week = {\n",
    "        1: \"Monday\",\n",
    "        2: \"Tuesday\",\n",
    "        3: \"Wednesday\",\n",
    "        4: \"Thursday\",\n",
    "        5: \"Friday\",\n",
    "        6: \"Saturday\",\n",
    "        7: \"Sunday\"\n",
    "    }\n",
    "    return days_of_week.get(number, \"Invalid number\")\n",
    "\n",
    "\n",
    "number = int(input(\"Enter a number (1 for Monday, 2 for Tuesday, etc.): \"))\n",
    "day = get_day_of_week(number)\n",
    "if day != \"Invalid number\":\n",
    "    print(f\"The day corresponding to number {number} is {day}.\")\n",
    "else:\n",
    "    print(\"Invalid input. Please enter a number between 1 and 7.\")"
   ]
  },
  {
   "cell_type": "code",
   "execution_count": 49,
   "id": "2aea22dc",
   "metadata": {},
   "outputs": [
    {
     "name": "stdout",
     "output_type": "stream",
     "text": [
      "Enter a year: 2020\n",
      "2020 is a leap year.\n",
      "2020 is not evenly divisible by 400.\n"
     ]
    }
   ],
   "source": [
    "## 19. Create a program that determines if a year is a leap year and also if it is evenly divisible by 400.\n",
    "def is_leap_year(year):\n",
    "    if (year % 4 == 0 and year % 100 != 0) or (year % 400 == 0):\n",
    "        return True\n",
    "    else:\n",
    "        return False\n",
    "\n",
    "def is_divisible_by_400(year):\n",
    "    return year % 400 == 0\n",
    "\n",
    "year = int(input(\"Enter a year: \"))\n",
    "\n",
    "if is_leap_year(year):\n",
    "    print(f\"{year} is a leap year.\")\n",
    "else:\n",
    "    print(f\"{year} is not a leap year.\")\n",
    "\n",
    "if is_divisible_by_400(year):\n",
    "    print(f\"{year} is evenly divisible by 400.\")\n",
    "else:\n",
    "    print(f\"{year} is not evenly divisible by 400.\")"
   ]
  },
  {
   "cell_type": "code",
   "execution_count": 50,
   "id": "34187b6d",
   "metadata": {},
   "outputs": [
    {
     "name": "stdout",
     "output_type": "stream",
     "text": [
      "Enter a number: 56\n",
      "56 is not a prime number.\n"
     ]
    }
   ],
   "source": [
    "#20. Develop a program that checks if a given number is prime or not using nested if-else statements.\n",
    "\n",
    "\n",
    "def is_prime(number):\n",
    "    if number <= 1:\n",
    "        return False\n",
    "    else:\n",
    "        for i in range(2, int(number**0.5) + 1):\n",
    "            if number % i == 0:\n",
    "                return False\n",
    "        return True\n",
    "\n",
    "\n",
    "number = int(input(\"Enter a number: \"))\n",
    "\n",
    "if number <= 1:\n",
    "    print(f\"{number} is not a prime number.\")\n",
    "else:\n",
    "    is_prime_flag = True\n",
    "    if number == 2:\n",
    "        is_prime_flag = True\n",
    "    else:\n",
    "        for i in range(2, int(number**0.5) + 1):\n",
    "            if number % i == 0:\n",
    "                is_prime_flag = False\n",
    "                break\n",
    "\n",
    "    if is_prime_flag:\n",
    "        print(f\"{number} is a prime number.\")\n",
    "    else:\n",
    "        print(f\"{number} is not a prime number.\")"
   ]
  },
  {
   "cell_type": "markdown",
   "id": "56ccb5be",
   "metadata": {},
   "source": [
    "# Elif Statements:"
   ]
  },
  {
   "cell_type": "code",
   "execution_count": 51,
   "id": "df0acc0b",
   "metadata": {},
   "outputs": [
    {
     "name": "stdout",
     "output_type": "stream",
     "text": [
      "For a score of 85, the grade is B.\n",
      "For a score of 95, the grade is A.\n",
      "For a score of 72, the grade is C.\n",
      "For a score of 60, the grade is D.\n",
      "For a score of 45, the grade is F.\n"
     ]
    }
   ],
   "source": [
    "#21. Write a Python program to assign grades based on different ranges of scores using elif statements.\n",
    "def assign_grade(score):\n",
    "    if score >= 90:\n",
    "        return 'A'\n",
    "    elif score >= 80:\n",
    "        return 'B'\n",
    "    elif score >= 70:\n",
    "        return 'C'\n",
    "    elif score >= 60:\n",
    "        return 'D'\n",
    "    else:\n",
    "        return 'F'\n",
    "\n",
    "scores = [85, 95, 72, 60, 45]\n",
    "\n",
    "for score in scores:\n",
    "    grade = assign_grade(score)\n",
    "    print(f\"For a score of {score}, the grade is {grade}.\")"
   ]
  },
  {
   "cell_type": "code",
   "execution_count": 52,
   "id": "c270d783",
   "metadata": {},
   "outputs": [
    {
     "name": "stdout",
     "output_type": "stream",
     "text": [
      "Acute triangle\n"
     ]
    }
   ],
   "source": [
    "#22. Implement a program to determine the type of a triangle based on its angles.\n",
    "def triangle_type(angle1, angle2, angle3):\n",
    "    if angle1 + angle2 + angle3 != 180:\n",
    "        return \"Not a triangle\"\n",
    "    elif angle1 <= 0 or angle2 <= 0 or angle3 <= 0:\n",
    "        return \"Not a triangle\"\n",
    "    elif angle1 == 90 or angle2 == 90 or angle3 == 90:\n",
    "        return \"Right triangle\"\n",
    "    elif angle1 < 90 and angle2 < 90 and angle3 < 90:\n",
    "        return \"Acute triangle\"\n",
    "    else:\n",
    "        return \"Obtuse triangle\"\n",
    "\n",
    "angle1 = 60\n",
    "angle2 = 60\n",
    "angle3 = 60\n",
    "print(triangle_type(angle1, angle2, angle3)) "
   ]
  },
  {
   "cell_type": "code",
   "execution_count": 53,
   "id": "c919ecf8",
   "metadata": {},
   "outputs": [
    {
     "name": "stdout",
     "output_type": "stream",
     "text": [
      "BMI: 22.86\n",
      "Category: Normal weight\n"
     ]
    }
   ],
   "source": [
    "#23. Develop a program to categorize a given person's BMI into underweight, normal, overweight, or obese using elif statements.\n",
    "def calculate_bmi(weight, height):\n",
    "    bmi = weight / (height ** 2)\n",
    "    return bmi\n",
    "\n",
    "def categorize_bmi(bmi):\n",
    "    if bmi < 18.5:\n",
    "        return \"Underweight\"\n",
    "    elif 18.5 <= bmi < 24.9:\n",
    "        return \"Normal weight\"\n",
    "    elif 25 <= bmi < 29.9:\n",
    "        return \"Overweight\"\n",
    "    else:\n",
    "        return \"Obese\"\n",
    "\n",
    "weight = 70  # in kilograms\n",
    "height = 1.75  # in meters\n",
    "\n",
    "bmi = calculate_bmi(weight, height)\n",
    "category = categorize_bmi(bmi)\n",
    "\n",
    "print(f\"BMI: {bmi:.2f}\")\n",
    "print(f\"Category: {category}\")"
   ]
  },
  {
   "cell_type": "code",
   "execution_count": 54,
   "id": "1b8a00ae",
   "metadata": {},
   "outputs": [
    {
     "name": "stdout",
     "output_type": "stream",
     "text": [
      "The number is :Positive\n"
     ]
    }
   ],
   "source": [
    "#24. Create a program that determines whether a given number is positive, negative, or zero using elif statements.\n",
    "def check_number(number):\n",
    "    if number > 0:\n",
    "        return \"Positive\"\n",
    "    elif number < 0:\n",
    "        return \"Negative\"\n",
    "    else:\n",
    "        return \"Zero\"\n",
    "    \n",
    "number = 10\n",
    "print(f\"The number is :{check_number(number)}\") "
   ]
  },
  {
   "cell_type": "code",
   "execution_count": 55,
   "id": "57cd651e",
   "metadata": {},
   "outputs": [
    {
     "name": "stdout",
     "output_type": "stream",
     "text": [
      "The character  is  : Uppercase.\n"
     ]
    }
   ],
   "source": [
    "#25. Write a Python script to determine the type of a character (uppercase, lowercase, or special) using elif statements.\n",
    "\n",
    "def character_type(char):\n",
    "    if char.isupper():\n",
    "        return \"Uppercase\"\n",
    "    elif char.islower():\n",
    "        return \"Lowercase\"\n",
    "    else:\n",
    "        return \"Special\"\n",
    "\n",
    "char = 'A'\n",
    "print(f\"The character  is  : {character_type(char)}.\") "
   ]
  },
  {
   "cell_type": "code",
   "execution_count": 56,
   "id": "55a15529",
   "metadata": {},
   "outputs": [
    {
     "name": "stdout",
     "output_type": "stream",
     "text": [
      "Purchase Amount: $120.00\n",
      "Discount Rate: 10%\n",
      "Discounted Price: $108.00\n"
     ]
    }
   ],
   "source": [
    "#26. Implement a program to calculate the discounted price based on different purchase amounts using elif statements.\n",
    "def calculate_discounted_price(purchase_amount):\n",
    "    if purchase_amount < 50:\n",
    "        discount_rate = 0.0\n",
    "    elif 50 <= purchase_amount < 100:\n",
    "        discount_rate = 0.05\n",
    "    elif 100 <= purchase_amount < 200:\n",
    "        discount_rate = 0.1\n",
    "    else:\n",
    "        discount_rate = 0.15\n",
    "\n",
    "    discounted_price = purchase_amount * (1 - discount_rate)\n",
    "    return discounted_price, discount_rate * 100\n",
    "\n",
    "purchase_amount = 120\n",
    "discounted_price, discount_rate = calculate_discounted_price(purchase_amount)\n",
    "\n",
    "print(f\"Purchase Amount: ${purchase_amount:.2f}\")\n",
    "print(f\"Discount Rate: {discount_rate:.0f}%\")\n",
    "print(f\"Discounted Price: ${discounted_price:.2f}\")"
   ]
  },
  {
   "cell_type": "code",
   "execution_count": 57,
   "id": "51d0c7ff",
   "metadata": {},
   "outputs": [
    {
     "name": "stdout",
     "output_type": "stream",
     "text": [
      "Total units consumed: 250\n",
      "Total electricity bill: $475.00\n"
     ]
    }
   ],
   "source": [
    "#27. Develop a program to calculate the electricity bill based on different consumption slabs using elif statements.\n",
    "def calculate_electricity_bill(units):\n",
    "    if units <= 100:\n",
    "        rate = 1.5\n",
    "        bill = units * rate\n",
    "    elif units <= 200:\n",
    "        rate = 2.0\n",
    "        bill = 100 * 1.5 + (units - 100) * rate\n",
    "    elif units <= 300:\n",
    "        rate = 2.5\n",
    "        bill = 100 * 1.5 + 100 * 2.0 + (units - 200) * rate\n",
    "    else:\n",
    "        rate = 3.0\n",
    "        bill = 100 * 1.5 + 100 * 2.0 + 100 * 2.5 + (units - 300) * rate\n",
    "\n",
    "    return bill\n",
    "\n",
    "units = 250\n",
    "bill = calculate_electricity_bill(units)\n",
    "\n",
    "print(f\"Total units consumed: {units}\")\n",
    "print(f\"Total electricity bill: ${bill:.2f}\")"
   ]
  },
  {
   "cell_type": "code",
   "execution_count": 58,
   "id": "e43d0f26",
   "metadata": {},
   "outputs": [
    {
     "name": "stdout",
     "output_type": "stream",
     "text": [
      "Square\n",
      "Rhombus\n",
      "Rectangle\n"
     ]
    }
   ],
   "source": [
    "#28. Create a program to determine the type of quadrilateral based on its angles and sides using elif statements.\n",
    "def quadrilateral_type(s1, s2, s3, s4, a1, a2, a3, a4):\n",
    "    if a1 + a2 + a3 + a4 != 360:\n",
    "        return \"Not a quadrilateral\"\n",
    "    \n",
    "    if s1 == s2 == s3 == s4:\n",
    "        if a1 == a2 == a3 == a4 == 90:\n",
    "            return \"Square\"\n",
    "        elif a1 == a3 and a2 == a4:\n",
    "            return \"Rhombus\"\n",
    "    \n",
    "    if (s1 == s3 and s2 == s4) or (s1 == s2 and s3 == s4):\n",
    "        if a1 == a2 == a3 == a4 == 90:\n",
    "            return \"Rectangle\"\n",
    "        elif a1 == a3 and a2 == a4:\n",
    "            return \"Parallelogram\"\n",
    "    \n",
    "    if s1 == s3 and s2 == s4:\n",
    "        return \"Trapezoid\"\n",
    "    \n",
    "    return \"Irregular Quadrilateral\"\n",
    "\n",
    "s1, s2, s3, s4 = 4, 4, 4, 4\n",
    "a1, a2, a3, a4 = 90, 90, 90, 90\n",
    "print(quadrilateral_type(s1, s2, s3, s4, a1, a2, a3, a4))  # Output: Square\n",
    "\n",
    "s1, s2, s3, s4 = 4, 4, 4, 4\n",
    "a1, a2, a3, a4 = 120, 60, 120, 60\n",
    "print(quadrilateral_type(s1, s2, s3, s4, a1, a2, a3, a4))  # Output: Rhombus\n",
    "\n",
    "s1, s2, s3, s4 = 4, 6, 4, 6\n",
    "a1, a2, a3, a4 = 90, 90, 90, 90\n",
    "print(quadrilateral_type(s1, s2, s3, s4, a1, a2, a3, a4))"
   ]
  },
  {
   "cell_type": "code",
   "execution_count": 59,
   "id": "406b625c",
   "metadata": {},
   "outputs": [
    {
     "name": "stdout",
     "output_type": "stream",
     "text": [
      "Enter the month: may\n",
      "The season is: Spring\n"
     ]
    }
   ],
   "source": [
    "#29. Write a Python script to determine the season based on a user-provided month using elif statements.\n",
    "def determine_season(month):\n",
    "    month = month.lower()\n",
    "    \n",
    "    if month in ['december', 'january', 'february']:\n",
    "        return \"Winter\"\n",
    "    elif month in ['march', 'april', 'may']:\n",
    "        return \"Spring\"\n",
    "    elif month in ['june', 'july', 'august']:\n",
    "        return \"Summer\"\n",
    "    elif month in ['september', 'october', 'november']:\n",
    "        return \"Autumn\"\n",
    "    else:\n",
    "        return \"Invalid month\"\n",
    "    \n",
    "user_month = input(\"Enter the month: \")\n",
    "season = determine_season(user_month)\n",
    "print(f\"The season is: {season}\")"
   ]
  },
  {
   "cell_type": "code",
   "execution_count": 60,
   "id": "5ddc04ce",
   "metadata": {},
   "outputs": [
    {
     "name": "stdout",
     "output_type": "stream",
     "text": [
      "The year is a: Leap Year.\n"
     ]
    }
   ],
   "source": [
    "#30. Implement a program to determine the type of a year (leap or common) and month (30 or 31 days) using elif statements.\n",
    "def determine_year_type(year):\n",
    "    if (year % 4 == 0 and year % 100 != 0) or (year % 400 == 0):\n",
    "        return \"Leap Year\"\n",
    "    else:\n",
    "        return \"Common Year\"\n",
    "\n",
    "def determine_month_days(month):\n",
    "    month = month.lower()\n",
    "    \n",
    "    if month in ['april', 'june', 'september', 'november']:\n",
    "        return \"30 days\"\n",
    "    elif month in ['january', 'march', 'may', 'july', 'august', 'october', 'december']:\n",
    "        return \"31 days\"\n",
    "    elif month == 'february':\n",
    "        return \"28 or 29 days\"\n",
    "    else:\n",
    "        return \"Invalid month\"\n",
    "user_year = 2024 \n",
    "user_month = \"February\" \n",
    "\n",
    "# Determine the year type\n",
    "year_type = determine_year_type(user_year)\n",
    "print(f\"The year is a: {year_type}.\")"
   ]
  },
  {
   "cell_type": "markdown",
   "id": "72ad3267",
   "metadata": {},
   "source": [
    "# Basic Level"
   ]
  },
  {
   "cell_type": "code",
   "execution_count": 61,
   "id": "1f90232e",
   "metadata": {},
   "outputs": [
    {
     "name": "stdout",
     "output_type": "stream",
     "text": [
      "The number is: Positive.\n"
     ]
    }
   ],
   "source": [
    "#1. Write a Python program that checks if a given number is positive, negative, or zero.\n",
    "def check_number_type(number):\n",
    "    if number > 0:\n",
    "        return \"Positive\"\n",
    "    elif number < 0:\n",
    "        return \"Negative\"\n",
    "    else:\n",
    "        return \"Zero\"\n",
    "number = 5 \n",
    "number_type = check_number_type(number)\n",
    "print(f\"The number is: {number_type}.\")"
   ]
  },
  {
   "cell_type": "code",
   "execution_count": 62,
   "id": "49fbd414",
   "metadata": {},
   "outputs": [
    {
     "name": "stdout",
     "output_type": "stream",
     "text": [
      "A person who is years old : Eligible to vote.\n"
     ]
    }
   ],
   "source": [
    "#2. Create a program to determine if a person is eligible to vote based on their age.\n",
    "def check_voter_eligibility(age):\n",
    "    if age >= 18:\n",
    "        return \"Eligible to vote\"\n",
    "    else:\n",
    "        return \"Not eligible to vote\"\n",
    "age = 20 \n",
    "eligibility = check_voter_eligibility(age)\n",
    "print(f\"A person who is years old : {eligibility}.\")"
   ]
  },
  {
   "cell_type": "code",
   "execution_count": 63,
   "id": "b93a1a10",
   "metadata": {},
   "outputs": [
    {
     "name": "stdout",
     "output_type": "stream",
     "text": [
      "The maximum  is: 20.\n"
     ]
    }
   ],
   "source": [
    "#3. Write a program to find the maximum of two given numbers using conditional statements.\n",
    "def find_maximum(num1, num2):\n",
    "    if num1 > num2:\n",
    "        return num1\n",
    "    elif num2 > num1:\n",
    "        return num2\n",
    "    else:\n",
    "        return \"Both numbers are equal\"\n",
    "number1 = 10 \n",
    "number2 = 20  \n",
    "maximum = find_maximum(number1, number2)\n",
    "print(f\"The maximum  is: {maximum}.\")"
   ]
  },
  {
   "cell_type": "code",
   "execution_count": 64,
   "id": "f079b696",
   "metadata": {},
   "outputs": [
    {
     "name": "stdout",
     "output_type": "stream",
     "text": [
      "The grade for a score  is: B.\n"
     ]
    }
   ],
   "source": [
    "#4. Develop a program that calculates the grade of a student based on their exam score.\n",
    "def calculate_grade(score):\n",
    "    if score >= 90:\n",
    "        return \"A\"\n",
    "    elif score >= 80:\n",
    "        return \"B\"\n",
    "    elif score >= 70:\n",
    "        return \"C\"\n",
    "    elif score >= 60:\n",
    "        return \"D\"\n",
    "    else:\n",
    "        return \"F\"\n",
    "\n",
    "exam_score = 85  \n",
    "grade = calculate_grade(exam_score)\n",
    "print(f\"The grade for a score  is: {grade}.\")"
   ]
  },
  {
   "cell_type": "code",
   "execution_count": 65,
   "id": "c2b38617",
   "metadata": {},
   "outputs": [
    {
     "name": "stdout",
     "output_type": "stream",
     "text": [
      "True\n"
     ]
    }
   ],
   "source": [
    "#5. Create a program that checks if a year is a leap year or not.\n",
    "def is_leap_year(year):\n",
    "    if (year % 4 == 0 and year % 100 != 0) or (year % 400 == 0):\n",
    "        return True\n",
    "    else:\n",
    "        return False\n",
    "\n",
    "year = 2024 \n",
    "if is_leap_year(year):\n",
    "    print(\"True\")\n",
    "else:\n",
    "    print(\"False\")"
   ]
  },
  {
   "cell_type": "code",
   "execution_count": 66,
   "id": "cac7f684",
   "metadata": {},
   "outputs": [
    {
     "name": "stdout",
     "output_type": "stream",
     "text": [
      "Equilateral triangle\n"
     ]
    }
   ],
   "source": [
    "#6. Write a program to classify a triangle based on its sides' lengths.\n",
    "def classify_triangle(side1, side2, side3):\n",
    "    if side1 == side2 == side3:\n",
    "        return \"Equilateral triangle\"\n",
    "    elif side1 == side2 or side1 == side3 or side2 == side3:\n",
    "        return \"Isosceles triangle\"\n",
    "    else:\n",
    "        return \"Scalene triangle\"\n",
    "side1 = 5  \n",
    "side2 = 5 \n",
    "side3 = 5  \n",
    "triangle_type = classify_triangle(side1, side2, side3)\n",
    "print(triangle_type)"
   ]
  },
  {
   "cell_type": "code",
   "execution_count": 67,
   "id": "0acc71df",
   "metadata": {},
   "outputs": [
    {
     "name": "stdout",
     "output_type": "stream",
     "text": [
      "The largest number among  is: 30.\n"
     ]
    }
   ],
   "source": [
    "#7. Build a program that determines the largest of three given numbers.\n",
    "\n",
    "def find_largest(num1, num2, num3):\n",
    "    if num1 >= num2 and num1 >= num3:\n",
    "        return num1\n",
    "    elif num2 >= num1 and num2 >= num3:\n",
    "        return num2\n",
    "    else:\n",
    "        return num3\n",
    "number1 = 25 \n",
    "number2 = 15  \n",
    "number3 = 30  \n",
    "largest = find_largest(number1, number2, number3)\n",
    "print(f\"The largest number among  is: {largest}.\")"
   ]
  },
  {
   "cell_type": "code",
   "execution_count": 68,
   "id": "940f9443",
   "metadata": {},
   "outputs": [
    {
     "name": "stdout",
     "output_type": "stream",
     "text": [
      "vowel\n"
     ]
    }
   ],
   "source": [
    "#8. Develop a program that checks whether a character is a vowel or a consonant.\n",
    "def check_vowel_or_consonant(char):\n",
    "    vowels = \"aeiouAEIOU\"\n",
    "\n",
    "    if char.isalpha() and len(char) == 1:\n",
    "        if char in vowels:\n",
    "            return f\"vowel\"\n",
    "        else:\n",
    "            return \"consonant\"\n",
    "    else:\n",
    "        return \"Invalid input. Please enter a single alphabetical character.\"\n",
    "character = 'a' \n",
    "result = check_vowel_or_consonant(character)\n",
    "print(result)"
   ]
  },
  {
   "cell_type": "code",
   "execution_count": 69,
   "id": "524658f6",
   "metadata": {},
   "outputs": [
    {
     "name": "stdout",
     "output_type": "stream",
     "text": [
      "The total cost of the shopping cart is: $117.00\n"
     ]
    }
   ],
   "source": [
    "#9. Create a program to calculate the total cost of a shopping cart based on discounts.\n",
    "def calculate_total_cost(prices):\n",
    "    total_cost = sum(prices)\n",
    "    discount_threshold = 100  # Example threshold for discount\n",
    "    discount_rate = 0.1  # Example discount rate (10%)\n",
    "\n",
    "    if total_cost >= discount_threshold:\n",
    "        discount = total_cost * discount_rate\n",
    "        total_cost -= discount\n",
    "\n",
    "    return total_cost\n",
    "\n",
    "item_prices = [25, 30, 45, 20, 10]\n",
    "total_cost = calculate_total_cost(item_prices)\n",
    "print(f\"The total cost of the shopping cart is: ${total_cost:.2f}\")"
   ]
  },
  {
   "cell_type": "code",
   "execution_count": 70,
   "id": "ac1afdaf",
   "metadata": {},
   "outputs": [
    {
     "name": "stdout",
     "output_type": "stream",
     "text": [
      "The number is: Odd.\n"
     ]
    }
   ],
   "source": [
    "#10. Write a program that checks if a given number is even or odd.\n",
    "def check_even_or_odd(number):\n",
    "    if number % 2 == 0:\n",
    "        return \"Even\"\n",
    "    else:\n",
    "        return \"Odd\"\n",
    "number = 7  \n",
    "result = check_even_or_odd(number)\n",
    "print(f\"The number is: {result}.\")"
   ]
  },
  {
   "cell_type": "markdown",
   "id": "36492f3f",
   "metadata": {},
   "source": [
    "# Intermediate Level:\n"
   ]
  },
  {
   "cell_type": "code",
   "execution_count": 71,
   "id": "9dbbc482",
   "metadata": {},
   "outputs": [
    {
     "name": "stdout",
     "output_type": "stream",
     "text": [
      "The roots of the quadratic equation 1x^2 + -3x + 2 = 0 are: 2.0 and 1.0\n"
     ]
    }
   ],
   "source": [
    "#11. Write a program that calculates the roots of a quadratic equation .\n",
    "import math\n",
    "\n",
    "def calculate_roots(a, b, c):\n",
    "    discriminant = b**2 - 4*a*c\n",
    "    \n",
    "    if discriminant > 0:\n",
    "        root1 = (-b + math.sqrt(discriminant)) / (2*a)\n",
    "        root2 = (-b - math.sqrt(discriminant)) / (2*a)\n",
    "        return root1, root2\n",
    "    elif discriminant == 0:\n",
    "        root = -b / (2*a)\n",
    "        return root, root\n",
    "    else:\n",
    "        # For complex roots (discriminant < 0), return None\n",
    "        return None\n",
    "\n",
    "# Example coefficients of the quadratic equation ax^2 + bx + c = 0\n",
    "a = 1\n",
    "b = -3\n",
    "c = 2\n",
    "# Calculate the roots\n",
    "roots = calculate_roots(a, b, c)\n",
    "\n",
    "# Print the roots\n",
    "if roots:\n",
    "    root1, root2 = roots\n",
    "    print(f\"The roots of the quadratic equation {a}x^2 + {b}x + {c} = 0 are: {root1} and {root2}\")\n",
    "else:\n",
    "    print(\"The quadratic equation has complex roots.\")"
   ]
  },
  {
   "cell_type": "code",
   "execution_count": 72,
   "id": "2fc34d2a",
   "metadata": {},
   "outputs": [
    {
     "name": "stdout",
     "output_type": "stream",
     "text": [
      "Sunday\n",
      "Tuesday\n",
      "Saturday\n",
      "Invalid day number. Please enter a number between 1 and 7.\n",
      "Invalid day number. Please enter a number between 1 and 7.\n"
     ]
    }
   ],
   "source": [
    "#12. Create a program that determines the day of the week based on the day number (1-7).\n",
    "def day_of_week(day_number):\n",
    "    days = [\"Sunday\", \"Monday\", \"Tuesday\", \"Wednesday\", \"Thursday\", \"Friday\", \"Saturday\"]\n",
    "    \n",
    "    if day_number < 1 or day_number > 7:\n",
    "        return \"Invalid day number. Please enter a number between 1 and 7.\"\n",
    "    return days[day_number - 1]\n",
    "\n",
    "print(day_of_week(1))  \n",
    "print(day_of_week(3))  \n",
    "print(day_of_week(7)) \n",
    "print(day_of_week(0))  \n",
    "print(day_of_week(8))  "
   ]
  },
  {
   "cell_type": "code",
   "execution_count": 73,
   "id": "b9f7e157",
   "metadata": {},
   "outputs": [
    {
     "name": "stdout",
     "output_type": "stream",
     "text": [
      "The factorial of 5 is: 120\n"
     ]
    }
   ],
   "source": [
    "#13. Develop a program that calculates the factorial of a given number using recursion.\n",
    "def factorial(n):\n",
    "    # Base case: factorial of 0 or 1 is 1\n",
    "    if n == 0 or n == 1:\n",
    "        return 1\n",
    "    else:\n",
    "        # Recursive case: n! = n * (n-1)!\n",
    "        return n * factorial(n - 1)\n",
    "num = 5\n",
    "print(f\"The factorial of {num} is: {factorial(num)}\")"
   ]
  },
  {
   "cell_type": "code",
   "execution_count": 74,
   "id": "d524c77b",
   "metadata": {},
   "outputs": [
    {
     "name": "stdout",
     "output_type": "stream",
     "text": [
      "The largest number among is: 10\n"
     ]
    }
   ],
   "source": [
    "#14. Write a program to find the largest among three numbers without using the `max()` function.\n",
    "def find_largest(a, b, c):\n",
    "    if a >= b and a >= c:\n",
    "        return a\n",
    "    elif b >= a and b >= c:\n",
    "        return b\n",
    "    else:\n",
    "        return c\n",
    "\n",
    "num1 = 10\n",
    "num2 = 5\n",
    "num3 = 8\n",
    "print(f\"The largest number among is: {find_largest(num1, num2, num3)}\")"
   ]
  },
  {
   "cell_type": "code",
   "execution_count": 75,
   "id": "147c2aef",
   "metadata": {},
   "outputs": [],
   "source": [
    "#15. Create a program that simulates a basic ATM transaction menu.\n",
    "class ATM:\n",
    "    def __init__(self, balance=0):\n",
    "        self.balance = balance\n",
    "    \n",
    "    def check_balance(self):\n",
    "        print(f\"Your balance is ${self.balance}\")\n",
    "    \n",
    "    def deposit(self, amount):\n",
    "        self.balance += amount\n",
    "        print(f\"${amount} has been deposited into your account.\")\n",
    "    \n",
    "    def withdraw(self, amount):\n",
    "        if amount > self.balance:\n",
    "            print(\"Insufficient funds.\")\n",
    "        else:\n",
    "            self.balance -= amount\n",
    "            print(f\"${amount} has been withdrawn from your account.\")\n",
    "    \n",
    "    def menu(self):\n",
    "        while True:\n",
    "            print(\"\\nATM Menu:\")\n",
    "            print(\"1. Check Balance\")\n",
    "            print(\"2. Deposit\")\n",
    "            print(\"3. Withdraw\")\n",
    "            print(\"4. Exit\")\n",
    "            \n",
    "            choice = input(\"Enter your choice (1-4): \")\n",
    "            \n",
    "            if choice == '1':\n",
    "                self.check_balance()\n",
    "            elif choice == '2':\n",
    "                amount = float(input(\"Enter deposit amount: $\"))\n",
    "                self.deposit(amount)\n",
    "            elif choice == '3':\n",
    "                amount = float(input(\"Enter withdrawal amount: $\"))\n",
    "                self.withdraw(amount)\n",
    "            elif choice == '4':\n",
    "                print(\"Thank you for using our ATM. Goodbye!\")\n",
    "                break\n",
    "            else:\n",
    "                print(\"Invalid choice. Please enter a number from 1 to 4.\")"
   ]
  },
  {
   "cell_type": "code",
   "execution_count": 76,
   "id": "238ed2a3",
   "metadata": {},
   "outputs": [
    {
     "name": "stdout",
     "output_type": "stream",
     "text": [
      "\n",
      "ATM Menu:\n",
      "1. Check Balance\n",
      "2. Deposit\n",
      "3. Withdraw\n",
      "4. Exit\n",
      "Enter your choice (1-4): 1\n",
      "Your balance is $0\n",
      "\n",
      "ATM Menu:\n",
      "1. Check Balance\n",
      "2. Deposit\n",
      "3. Withdraw\n",
      "4. Exit\n",
      "Enter your choice (1-4): 3\n",
      "Enter withdrawal amount: $4000\n",
      "Insufficient funds.\n",
      "\n",
      "ATM Menu:\n",
      "1. Check Balance\n",
      "2. Deposit\n",
      "3. Withdraw\n",
      "4. Exit\n",
      "Enter your choice (1-4): 4\n",
      "Thank you for using our ATM. Goodbye!\n"
     ]
    }
   ],
   "source": [
    "def main():\n",
    "    atm = ATM()  # Initialize ATM with zero balance\n",
    "    atm.menu()   # Start the ATM menu\n",
    "\n",
    "if __name__ == \"__main__\":\n",
    "    main()"
   ]
  },
  {
   "cell_type": "code",
   "execution_count": 38,
   "id": "111cf095",
   "metadata": {},
   "outputs": [
    {
     "name": "stdout",
     "output_type": "stream",
     "text": [
      "Enter a string: Manam\n",
      "Manam is a palindrome.\n"
     ]
    }
   ],
   "source": [
    "#16. Build a program that checks if a given string is a palindrome or not.\n",
    "def is_palindrome(s):\n",
    "    # Remove spaces and convert to lowercase\n",
    "    s = s.replace(\" \", \"\").lower()\n",
    "    \n",
    "    # Check if the string is equal to its reverse\n",
    "    return s == s[::-1]\n",
    "\n",
    "def main():\n",
    "    # Input string from user\n",
    "    input_string = input(\"Enter a string: \")\n",
    "    \n",
    "    # Check if it is a palindrome\n",
    "    if is_palindrome(input_string):\n",
    "        print(f\"{input_string} is a palindrome.\")\n",
    "    else:\n",
    "        print(f\"{input_string} is not a palindrome.\")\n",
    "\n",
    "if __name__ == \"__main__\":\n",
    "    main()"
   ]
  },
  {
   "cell_type": "code",
   "execution_count": 40,
   "id": "e51fddee",
   "metadata": {},
   "outputs": [
    {
     "name": "stdout",
     "output_type": "stream",
     "text": [
      "The average of the list excluding the smallest and largest values is: 5.0\n"
     ]
    }
   ],
   "source": [
    "#17. Write a program that calculates the average of a list of numbers, excluding the smallest and largest values.\n",
    "def calculate_average(numbers):\n",
    "    # Check if there are at least 3 numbers\n",
    "    if len(numbers) < 3:\n",
    "        raise ValueError(\"List must contain at least 3 numbers to exclude the smallest and largest values.\")\n",
    "\n",
    "    # Sort the numbers\n",
    "    sorted_numbers = sorted(numbers)\n",
    "    \n",
    "    # Remove the smallest and largest values\n",
    "    trimmed_numbers = sorted_numbers[1:-1]\n",
    "    \n",
    "    # Calculate the average\n",
    "    average = sum(trimmed_numbers) / len(trimmed_numbers)\n",
    "    \n",
    "    return average\n",
    "\n",
    "def main():\n",
    "    numbers = [1, 2, 3, 4, 5, 6, 7, 8, 9]\n",
    "    try:\n",
    "        average = calculate_average(numbers)\n",
    "        print(f\"The average of the list excluding the smallest and largest values is: {average}\")\n",
    "    except ValueError as e:\n",
    "        print(e)\n",
    "\n",
    "if __name__ == \"__main__\":\n",
    "    main()\n"
   ]
  },
  {
   "cell_type": "code",
   "execution_count": 41,
   "id": "785b83d8",
   "metadata": {},
   "outputs": [
    {
     "name": "stdout",
     "output_type": "stream",
     "text": [
      "Enter temperature in Celsius: 34\n",
      "34.0°C is equal to 93.2°F\n"
     ]
    }
   ],
   "source": [
    "#18. Develop a program that converts a given temperature from Celsius to Fahrenheit.\n",
    "def celsius_to_fahrenheit(celsius):\n",
    "    return (celsius * 9/5) + 32\n",
    "\n",
    "def main():\n",
    "    # Input temperature in Celsius from user\n",
    "    celsius = float(input(\"Enter temperature in Celsius: \"))\n",
    "    \n",
    "    # Convert to Fahrenheit\n",
    "    fahrenheit = celsius_to_fahrenheit(celsius)\n",
    "    \n",
    "    # Display the result\n",
    "    print(f\"{celsius}°C is equal to {fahrenheit}°F\")\n",
    "\n",
    "if __name__ == \"__main__\":\n",
    "    main()"
   ]
  },
  {
   "cell_type": "code",
   "execution_count": 42,
   "id": "fd678fd9",
   "metadata": {},
   "outputs": [
    {
     "name": "stdout",
     "output_type": "stream",
     "text": [
      "Basic Calculator\n",
      "Select operation:\n",
      "1. Addition\n",
      "2. Subtraction\n",
      "3. Multiplication\n",
      "4. Division\n",
      "Enter choice (1/2/3/4): 1\n",
      "Enter first number: 34\n",
      "Enter second number: 56\n",
      "The result of 34.0 + 56.0 is 90.0\n"
     ]
    }
   ],
   "source": [
    "#19. Create a program that simulates a basic calculator for addition, subtraction, multiplication, and division.\n",
    "def add(a, b):\n",
    "    return a + b\n",
    "\n",
    "def subtract(a, b):\n",
    "    return a - b\n",
    "\n",
    "def multiply(a, b):\n",
    "    return a * b\n",
    "\n",
    "def divide(a, b):\n",
    "    return a / b\n",
    "\n",
    "def main():\n",
    "    print(\"Basic Calculator\")\n",
    "    print(\"Select operation:\")\n",
    "    print(\"1. Addition\")\n",
    "    print(\"2. Subtraction\")\n",
    "    print(\"3. Multiplication\")\n",
    "    print(\"4. Division\")\n",
    "    \n",
    "    # Take input from the user for operation choice\n",
    "    choice = input(\"Enter choice (1/2/3/4): \")\n",
    "    \n",
    "    # Take input for the numbers to be operated on\n",
    "    num1 = float(input(\"Enter first number: \"))\n",
    "    num2 = float(input(\"Enter second number: \"))\n",
    "    \n",
    "    if choice == '1':\n",
    "        print(f\"The result of {num1} + {num2} is {add(num1, num2)}\")\n",
    "    elif choice == '2':\n",
    "        print(f\"The result of {num1} - {num2} is {subtract(num1, num2)}\")\n",
    "    elif choice == '3':\n",
    "        print(f\"The result of {num1} * {num2} is {multiply(num1, num2)}\")\n",
    "    elif choice == '4':\n",
    "        if num2 != 0:\n",
    "            print(f\"The result of {num1} / {num2} is {divide(num1, num2)}\")\n",
    "        else:\n",
    "            print(\"Error! Division by zero.\")\n",
    "    else:\n",
    "        print(\"Invalid input. Please enter a number between 1 and 4.\")\n",
    "\n",
    "if __name__ == \"__main__\":\n",
    "    main()\n"
   ]
  },
  {
   "cell_type": "code",
   "execution_count": 43,
   "id": "9681ab34",
   "metadata": {},
   "outputs": [
    {
     "name": "stdout",
     "output_type": "stream",
     "text": [
      "Enter coefficient a: 3\n",
      "Enter coefficient b: 4\n",
      "Enter coefficient c: 5\n",
      "Enter coefficient d: 6\n",
      "The roots of the cubic equation are: (0.4387261901664199+0.9838361967690031j), (-0.034002622185254294-0.7109060897040722j), (-1.7380569013144989-0.272930107064931j)\n"
     ]
    }
   ],
   "source": [
    "#20. Write a program that determines the roots of a cubic equation using the Cardano formula.\n",
    "import math\n",
    "import cmath\n",
    "\n",
    "def cubic_roots(a, b, c, d):\n",
    "    # Coefficients for the depressed cubic t^3 + pt + q = 0\n",
    "    if a != 0:\n",
    "        p = (3 * a * c - b**2) / (3 * a**2)\n",
    "        q = (2 * b**3 - 9 * a * b * c + 27 * a**2 * d) / (27 * a**3)\n",
    "    else:\n",
    "        raise ValueError(\"The coefficient 'a' must be non-zero for a cubic equation.\")\n",
    "    \n",
    "    # Intermediate calculation for Cardano's formula\n",
    "    delta = (q / 2)**2 + (p / 3)**3\n",
    "    \n",
    "    if delta > 0:\n",
    "        u = (-q / 2 + math.sqrt(delta))**(1/3)\n",
    "        v = (-q / 2 - math.sqrt(delta))**(1/3)\n",
    "    else:\n",
    "        u = cmath.exp(complex(0, 2 * math.pi / 3)) * ((-q / 2 + cmath.sqrt(delta))**(1/3))\n",
    "        v = cmath.exp(complex(0, -2 * math.pi / 3)) * ((-q / 2 - cmath.sqrt(delta))**(1/3))\n",
    "    \n",
    "    t1 = u + v\n",
    "    t2 = -(u + v) / 2 + cmath.sqrt(3) * (u - v) / 2 * 1j\n",
    "    t3 = -(u + v) / 2 - cmath.sqrt(3) * (u - v) / 2 * 1j\n",
    "    \n",
    "    # Roots of the original cubic equation\n",
    "    root1 = t1 - b / (3 * a)\n",
    "    root2 = t2 - b / (3 * a)\n",
    "    root3 = t3 - b / (3 * a)\n",
    "    \n",
    "    return root1, root2, root3\n",
    "\n",
    "def main():\n",
    "    # Coefficients of the cubic equation\n",
    "    a = float(input(\"Enter coefficient a: \"))\n",
    "    b = float(input(\"Enter coefficient b: \"))\n",
    "    c = float(input(\"Enter coefficient c: \"))\n",
    "    d = float(input(\"Enter coefficient d: \"))\n",
    "    \n",
    "    try:\n",
    "        roots = cubic_roots(a, b, c, d)\n",
    "        print(f\"The roots of the cubic equation are: {roots[0]}, {roots[1]}, {roots[2]}\")\n",
    "    except ValueError as e:\n",
    "        print(e)\n",
    "\n",
    "if __name__ == \"__main__\":\n",
    "    main()\n"
   ]
  },
  {
   "cell_type": "markdown",
   "id": "1d794832",
   "metadata": {},
   "source": [
    "# Advanced Level:"
   ]
  },
  {
   "cell_type": "code",
   "execution_count": 44,
   "id": "398fda75",
   "metadata": {},
   "outputs": [
    {
     "name": "stdout",
     "output_type": "stream",
     "text": [
      "Enter your annual income: 22000\n",
      "The total income tax on an income of $22000.0 is $2442.50\n"
     ]
    }
   ],
   "source": [
    "#21. Create a program that calculates the income tax based on the user's income and tax brackets.\n",
    "def calculate_tax(income):\n",
    "    # Define the tax brackets and corresponding rates\n",
    "    tax_brackets = [\n",
    "        (9875, 0.10),\n",
    "        (40125, 0.12),\n",
    "        (85525, 0.22),\n",
    "        (163300, 0.24),\n",
    "        (207350, 0.32),\n",
    "        (518400, 0.35),\n",
    "        (float('inf'), 0.37)\n",
    "    ]\n",
    "    tax = 0.0\n",
    "    previous_limit = 0\n",
    "\n",
    "    for limit, rate in tax_brackets:\n",
    "        if income > limit:\n",
    "            tax += (limit - previous_limit) * rate\n",
    "            previous_limit = limit\n",
    "        else:\n",
    "            tax += (income - previous_limit) * rate\n",
    "            break\n",
    "\n",
    "    return tax\n",
    "\n",
    "income = float(input(\"Enter your annual income: \"))\n",
    "tax = calculate_tax(income)\n",
    "print(f\"The total income tax on an income of ${income} is ${tax:.2f}\")\n"
   ]
  },
  {
   "cell_type": "code",
   "execution_count": 45,
   "id": "155db7a6",
   "metadata": {},
   "outputs": [
    {
     "name": "stdout",
     "output_type": "stream",
     "text": [
      "Enter your choice (rock, paper, scissors): rock\n",
      "You chose: rock\n",
      "Computer chose: rock\n",
      "It's a tie!\n",
      "Do you want to play again? (yes/no): yes\n",
      "Enter your choice (rock, paper, scissors): rock\n",
      "You chose: rock\n",
      "Computer chose: rock\n",
      "It's a tie!\n",
      "Do you want to play again? (yes/no): yes\n",
      "Enter your choice (rock, paper, scissors): paper\n",
      "You chose: paper\n",
      "Computer chose: scissors\n",
      "You lose!\n",
      "Do you want to play again? (yes/no): yes\n",
      "Enter your choice (rock, paper, scissors): scissors\n",
      "You chose: scissors\n",
      "Computer chose: paper\n",
      "You win!\n",
      "Do you want to play again? (yes/no): no\n",
      "Thanks for playing!\n"
     ]
    }
   ],
   "source": [
    "#22. Write a program that simulates a rock-paper-scissors game against the computer.\n",
    "import random\n",
    "\n",
    "def get_computer_choice():\n",
    "    choices = ['rock', 'paper', 'scissors']\n",
    "    return random.choice(choices)\n",
    "\n",
    "def get_user_choice():\n",
    "    choice = input(\"Enter your choice (rock, paper, scissors): \").lower()\n",
    "    while choice not in ['rock', 'paper', 'scissors']:\n",
    "        print(\"Invalid choice. Please try again.\")\n",
    "        choice = input(\"Enter your choice (rock, paper, scissors): \").lower()\n",
    "    return choice\n",
    "\n",
    "def determine_winner(user_choice, computer_choice):\n",
    "    if user_choice == computer_choice:\n",
    "        return \"It's a tie!\"\n",
    "    elif (user_choice == 'rock' and computer_choice == 'scissors') or \\\n",
    "         (user_choice == 'paper' and computer_choice == 'rock') or \\\n",
    "         (user_choice == 'scissors' and computer_choice == 'paper'):\n",
    "        return \"You win!\"\n",
    "    else:\n",
    "        return \"You lose!\"\n",
    "\n",
    "# Main game loop\n",
    "while True:\n",
    "    user_choice = get_user_choice()\n",
    "    computer_choice = get_computer_choice()\n",
    "    \n",
    "    print(f\"You chose: {user_choice}\")\n",
    "    print(f\"Computer chose: {computer_choice}\")\n",
    "    \n",
    "    result = determine_winner(user_choice, computer_choice)\n",
    "    print(result)\n",
    "    \n",
    "    play_again = input(\"Do you want to play again? (yes/no): \").lower()\n",
    "    if play_again != 'yes':\n",
    "        break\n",
    "\n",
    "print(\"Thanks for playing!\")"
   ]
  },
  {
   "cell_type": "code",
   "execution_count": 1,
   "id": "99cf220b",
   "metadata": {},
   "outputs": [
    {
     "name": "stdout",
     "output_type": "stream",
     "text": [
      "You find yourself standing in an open field west of a white house, with a boarded front door.\n",
      "There is a small mailbox here.\n",
      "Do you open the mailbox? (yes/no) yes\n",
      "You open the mailbox and find a letter.\n",
      "Do you read the letter? (yes/no) yes\n",
      "The letter reads: 'Welcome to the adventure! Your quest begins now.'\n",
      "You are back in the field. There is a path to the north and a dense forest to the south.\n",
      "Do you go north or south? north\n",
      "You follow the path north and arrive at a small village.\n",
      "Do you enter the village? (yes/no) no\n",
      "You are back in the field. There is a path to the north and a dense forest to the south.\n",
      "Do you go north or south? south\n",
      "You venture into the dense forest. It's dark and eerie.\n",
      "Do you continue deeper into the forest? (yes/no) yes\n",
      "You continue deeper into the forest and encounter a wild beast.\n",
      "Do you fight or run? run\n",
      "You are back in the field. There is a path to the north and a dense forest to the south.\n",
      "Do you go north or south? north\n",
      "You follow the path north and arrive at a small village.\n",
      "Do you enter the village? (yes/no) \n",
      "You are back in the field. There is a path to the north and a dense forest to the south.\n",
      "Do you go north or south? north\n",
      "You follow the path north and arrive at a small village.\n",
      "Do you enter the village? (yes/no) yes\n",
      "You enter the village and are greeted by friendly villagers.\n",
      "Congratulations, you've found a safe place to rest. The adventure continues another day.\n",
      "Thank you for playing!\n"
     ]
    }
   ],
   "source": [
    "#23. Develop a program that generates a random password based on user preferences (length, complexity).\n",
    "def intro():\n",
    "    print(\"You find yourself standing in an open field west of a white house, with a boarded front door.\")\n",
    "    print(\"There is a small mailbox here.\")\n",
    "    choice = input(\"Do you open the mailbox? (yes/no) \")\n",
    "\n",
    "    if choice.lower() == \"yes\":\n",
    "        mailbox()\n",
    "    else:\n",
    "        field()\n",
    "\n",
    "def mailbox():\n",
    "    print(\"You open the mailbox and find a letter.\")\n",
    "    choice = input(\"Do you read the letter? (yes/no) \")\n",
    "\n",
    "    if choice.lower() == \"yes\":\n",
    "        read_letter()\n",
    "    else:\n",
    "        field()\n",
    "\n",
    "def read_letter():\n",
    "    print(\"The letter reads: 'Welcome to the adventure! Your quest begins now.'\")\n",
    "    field()\n",
    "\n",
    "def field():\n",
    "    print(\"You are back in the field. There is a path to the north and a dense forest to the south.\")\n",
    "    choice = input(\"Do you go north or south? \")\n",
    "\n",
    "    if choice.lower() == \"north\":\n",
    "        north_path()\n",
    "    elif choice.lower() == \"south\":\n",
    "        forest()\n",
    "    else:\n",
    "        print(\"Invalid choice. You stay in the field.\")\n",
    "        field()\n",
    "\n",
    "def north_path():\n",
    "    print(\"You follow the path north and arrive at a small village.\")\n",
    "    choice = input(\"Do you enter the village? (yes/no) \")\n",
    "\n",
    "    if choice.lower() == \"yes\":\n",
    "        village()\n",
    "    else:\n",
    "        field()\n",
    "\n",
    "def forest():\n",
    "    print(\"You venture into the dense forest. It's dark and eerie.\")\n",
    "    choice = input(\"Do you continue deeper into the forest? (yes/no) \")\n",
    "\n",
    "    if choice.lower() == \"yes\":\n",
    "        deep_forest()\n",
    "    else:\n",
    "        field()\n",
    "\n",
    "def village():\n",
    "    print(\"You enter the village and are greeted by friendly villagers.\")\n",
    "    print(\"Congratulations, you've found a safe place to rest. The adventure continues another day.\")\n",
    "    end()\n",
    "\n",
    "def deep_forest():\n",
    "    print(\"You continue deeper into the forest and encounter a wild beast.\")\n",
    "    choice = input(\"Do you fight or run? \")\n",
    "\n",
    "    if choice.lower() == \"fight\":\n",
    "        fight_beast()\n",
    "    elif choice.lower() == \"run\":\n",
    "        field()\n",
    "    else:\n",
    "        print(\"Invalid choice. The beast attacks you.\")\n",
    "        end()\n",
    "\n",
    "def fight_beast():\n",
    "    print(\"You bravely fight the beast and emerge victorious.\")\n",
    "    print(\"Congratulations, you have defeated the beast and can continue your adventure another day.\")\n",
    "    end()\n",
    "\n",
    "def end():\n",
    "    print(\"Thank you for playing!\")\n",
    "\n",
    "if __name__ == \"__main__\":\n",
    "    intro()\n"
   ]
  },
  {
   "cell_type": "code",
   "execution_count": 2,
   "id": "a27969d8",
   "metadata": {},
   "outputs": [
    {
     "name": "stdout",
     "output_type": "stream",
     "text": [
      "Solve the linear equation ax + b = 0\n",
      "Enter the coefficient a: 21\n",
      "Enter the constant b: 12\n",
      "The solution is x = -0.5714285714285714\n"
     ]
    }
   ],
   "source": [
    "#25. Build a program that solves a linear equation  for x, considering different cases.\n",
    "def solve_linear_equation(a, b):\n",
    "    if a != 0:\n",
    "        x = -b / a\n",
    "        print(f\"The solution is x = {x}\")\n",
    "    else:\n",
    "        if b != 0:\n",
    "            print(\"There is no solution (the equation is inconsistent).\")\n",
    "        else:\n",
    "            print(\"There are infinite solutions (the equation is an identity).\")\n",
    "\n",
    "if __name__ == \"__main__\":\n",
    "    print(\"Solve the linear equation ax + b = 0\")\n",
    "    a = float(input(\"Enter the coefficient a: \"))\n",
    "    b = float(input(\"Enter the constant b: \"))\n",
    "    solve_linear_equation(a, b)\n"
   ]
  },
  {
   "cell_type": "code",
   "execution_count": 4,
   "id": "4dfe7d5a",
   "metadata": {},
   "outputs": [
    {
     "name": "stdout",
     "output_type": "stream",
     "text": [
      "Welcome to the quiz game!\n",
      "What is the capital of France?\n",
      "1. Berlin\n",
      "2. Madrid\n",
      "3. Paris\n",
      "4. Rome\n",
      "Your choice (1-4): 1\n",
      "Incorrect.\n",
      "\n",
      "What is 2 + 2?\n",
      "1. 3\n",
      "2. 4\n",
      "3. 5\n",
      "4. 6\n",
      "Your choice (1-4): 2\n",
      "Correct!\n",
      "\n",
      "Which planet is known as the Red Planet?\n",
      "1. Earth\n",
      "2. Mars\n",
      "3. Jupiter\n",
      "4. Saturn\n",
      "Your choice (1-4): 2\n",
      "Correct!\n",
      "\n",
      "Who wrote 'To Kill a Mockingbird'?\n",
      "1. Harper Lee\n",
      "2. Mark Twain\n",
      "3. Ernest Hemingway\n",
      "4. Jane Austen\n",
      "Your choice (1-4): 2\n",
      "Incorrect.\n",
      "\n",
      "Your final score is 2 out of 4.\n",
      "Thank you for playing!\n"
     ]
    }
   ],
   "source": [
    "#26. Write a program that simulates a basic quiz game with multiple-choice questions and scoring.\n",
    "\n",
    "def ask_question(question, options, correct_option):\n",
    "    print(question)\n",
    "    for i, option in enumerate(options, 1):\n",
    "        print(f\"{i}. {option}\")\n",
    "\n",
    "    while True:\n",
    "        try:\n",
    "            answer = int(input(\"Your choice (1-4): \"))\n",
    "            if 1 <= answer <= 4:\n",
    "                break\n",
    "            else:\n",
    "                print(\"Invalid choice. Please choose a number between 1 and 4.\")\n",
    "        except ValueError:\n",
    "            print(\"Invalid input. Please enter a number.\")\n",
    "\n",
    "    return answer == correct_option\n",
    "\n",
    "def run_quiz(questions):\n",
    "    score = 0\n",
    "    for question, options, correct_option in questions:\n",
    "        if ask_question(question, options, correct_option):\n",
    "            print(\"Correct!\")\n",
    "            score += 1\n",
    "        else:\n",
    "            print(\"Incorrect.\")\n",
    "        print()\n",
    "\n",
    "    print(f\"Your final score is {score} out of {len(questions)}.\")\n",
    "\n",
    "if __name__ == \"__main__\":\n",
    "    questions = [\n",
    "        (\"What is the capital of France?\", [\"Berlin\", \"Madrid\", \"Paris\", \"Rome\"], 3),\n",
    "        (\"What is 2 + 2?\", [\"3\", \"4\", \"5\", \"6\"], 2),\n",
    "        (\"Which planet is known as the Red Planet?\", [\"Earth\", \"Mars\", \"Jupiter\", \"Saturn\"], 2),\n",
    "        (\"Who wrote 'To Kill a Mockingbird'?\", [\"Harper Lee\", \"Mark Twain\", \"Ernest Hemingway\", \"Jane Austen\"], 1)\n",
    "    ]\n",
    "\n",
    "    print(\"Welcome to the quiz game!\")\n",
    "    run_quiz(questions)\n",
    "    print(\"Thank you for playing!\")\n"
   ]
  },
  {
   "cell_type": "code",
   "execution_count": 5,
   "id": "070ed169",
   "metadata": {},
   "outputs": [
    {
     "name": "stdout",
     "output_type": "stream",
     "text": [
      "Enter a year: 2014\n",
      "The year 2014 is not a prime number.\n"
     ]
    }
   ],
   "source": [
    "#27. Develop a program that determines whether a given year is a prime number or not\n",
    "def is_prime(n):\n",
    "    if n <= 1:\n",
    "        return False\n",
    "    if n == 2:\n",
    "        return True\n",
    "    if n % 2 == 0:\n",
    "        return False\n",
    "    for i in range(3, int(n**0.5) + 1, 2):\n",
    "        if n % i == 0:\n",
    "            return False\n",
    "    return True\n",
    "\n",
    "def main():\n",
    "    year = int(input(\"Enter a year: \"))\n",
    "    if is_prime(year):\n",
    "        print(f\"The year {year} is a prime number.\")\n",
    "    else:\n",
    "        print(f\"The year {year} is not a prime number.\")\n",
    "\n",
    "if __name__ == \"__main__\":\n",
    "    main()"
   ]
  },
  {
   "cell_type": "code",
   "execution_count": 6,
   "id": "d85e9a78",
   "metadata": {},
   "outputs": [
    {
     "name": "stdout",
     "output_type": "stream",
     "text": [
      "Enter three numbers to sort:\n",
      "Enter the first number: 2\n",
      "Enter the second number: 3\n",
      "Enter the third number: 1\n",
      "The numbers in ascending order are: (1.0, 2.0, 3.0)\n"
     ]
    }
   ],
   "source": [
    "#28. Create a program that sorts three numbers in ascending order using conditional statements.\n",
    "def sort_three_numbers(a, b, c):\n",
    "    if a > b:\n",
    "        a, b = b, a\n",
    "    if a > c:\n",
    "        a, c = c, a\n",
    "    if b > c:\n",
    "        b, c = c, b\n",
    "    return a, b, c\n",
    "\n",
    "def main():\n",
    "    print(\"Enter three numbers to sort:\")\n",
    "    a = float(input(\"Enter the first number: \"))\n",
    "    b = float(input(\"Enter the second number: \"))\n",
    "    c = float(input(\"Enter the third number: \"))\n",
    "\n",
    "    sorted_numbers = sort_three_numbers(a, b, c)\n",
    "    print(\"The numbers in ascending order are:\", sorted_numbers)\n",
    "\n",
    "if __name__ == \"__main__\":\n",
    "    main()"
   ]
  },
  {
   "cell_type": "code",
   "execution_count": 7,
   "id": "04e4fa8c",
   "metadata": {},
   "outputs": [
    {
     "name": "stdout",
     "output_type": "stream",
     "text": [
      "Find the roots of the quartic equation ax^4 + bx^3 + cx^2 + dx + e = 0\n",
      "Enter the coefficient a: 12\n",
      "Enter the coefficient b: 8\n",
      "Enter the coefficient c: 6\n",
      "Enter the coefficient d: 4\n",
      "Enter the constant e: 3\n",
      "The roots of the equation are:\n",
      "(-0.5575346466519533+0.4349196681948094j)\n",
      "(-0.5575346466519533-0.4349196681948094j)\n",
      "(0.22420131331861906+0.6706219285903253j)\n",
      "(0.22420131331861906-0.6706219285903253j)\n"
     ]
    }
   ],
   "source": [
    "#29. Build a program that determines the roots of a quartic equation using numerical methods.\n",
    "import numpy as np\n",
    "\n",
    "def find_roots(a, b, c, d, e):\n",
    "    # Coefficients of the quartic equation\n",
    "    coefficients = [a, b, c, d, e]\n",
    "    \n",
    "    # Find the roots using numpy's roots function\n",
    "    roots = np.roots(coefficients)\n",
    "    \n",
    "    return roots\n",
    "\n",
    "def main():\n",
    "    print(\"Find the roots of the quartic equation ax^4 + bx^3 + cx^2 + dx + e = 0\")\n",
    "    a = float(input(\"Enter the coefficient a: \"))\n",
    "    b = float(input(\"Enter the coefficient b: \"))\n",
    "    c = float(input(\"Enter the coefficient c: \"))\n",
    "    d = float(input(\"Enter the coefficient d: \"))\n",
    "    e = float(input(\"Enter the constant e: \"))\n",
    "    \n",
    "    roots = find_roots(a, b, c, d, e)\n",
    "    print(\"The roots of the equation are:\")\n",
    "    for root in roots:\n",
    "        print(root)\n",
    "\n",
    "if __name__ == \"__main__\":\n",
    "    main()\n"
   ]
  },
  {
   "cell_type": "code",
   "execution_count": 12,
   "id": "80e506ca",
   "metadata": {},
   "outputs": [
    {
     "name": "stdout",
     "output_type": "stream",
     "text": [
      "BMI (Body Mass Index) Calculator\n",
      "Enter your weight in kilograms: 58\n",
      "Enter your height in meters: 1.6764\n",
      "Your BMI is: 20.64\n",
      "Health recommendation: Normal weight. Maintain a balanced diet and regular physical activity.\n"
     ]
    }
   ],
   "source": [
    "#30. Write a program that calculates the BMI (Body Mass Index) and provides health recommendations based on the user's input.\n",
    "def calculate_bmi(weight, height):\n",
    "    bmi = weight / (height ** 2)\n",
    "    return bmi\n",
    "\n",
    "def get_health_recommendation(bmi):\n",
    "    if bmi < 18.5:\n",
    "        return \"Underweight. It's important to eat a balanced diet and consult with a healthcare provider.\"\n",
    "    elif 18.5 <= bmi < 24.9:\n",
    "        return \"Normal weight. Maintain a balanced diet and regular physical activity.\"\n",
    "    elif 25 <= bmi < 29.9:\n",
    "        return \"Overweight. Consider a balanced diet, regular exercise, and consulting with a healthcare provider.\"\n",
    "    else:\n",
    "        return \"Obesity. It's important to consult with a healthcare provider for a proper plan to improve your health.\"\n",
    "\n",
    "def main():\n",
    "    print(\"BMI (Body Mass Index) Calculator\")\n",
    "    try:\n",
    "        weight = float(input(\"Enter your weight in kilograms: \"))\n",
    "        height = float(input(\"Enter your height in meters: \"))\n",
    "        if weight <= 0 or height <= 0:\n",
    "            raise ValueError(\"Weight and height must be positive values.\")\n",
    "    except ValueError as e:\n",
    "        print(e)\n",
    "        return\n",
    "    \n",
    "    bmi = calculate_bmi(weight, height)\n",
    "    recommendation = get_health_recommendation(bmi)\n",
    "    \n",
    "    print(f\"Your BMI is: {bmi:.2f}\")\n",
    "    print(f\"Health recommendation: {recommendation}\")\n",
    "\n",
    "if __name__ == \"__main__\":\n",
    "    main()"
   ]
  },
  {
   "cell_type": "markdown",
   "id": "3d9d6565",
   "metadata": {},
   "source": [
    "#  Challenge Level:"
   ]
  },
  {
   "cell_type": "code",
   "execution_count": 14,
   "id": "14be7f47",
   "metadata": {},
   "outputs": [
    {
     "name": "stdout",
     "output_type": "stream",
     "text": [
      "Password Validator\n",
      "Enter a password to validate: Pwskills@2024\n",
      "Password is valid.\n"
     ]
    }
   ],
   "source": [
    "#31. Create a program that validates a password based on complexity rules (length, characters, etc.).\n",
    "\n",
    "import re\n",
    "\n",
    "def validate_password(password):\n",
    "    # Check the length of the password\n",
    "    if len(password) < 8:\n",
    "        return \"Password must be at least 8 characters long.\"\n",
    "\n",
    "    # Check for at least one uppercase letter\n",
    "    if not re.search(r\"[A-Z]\", password):\n",
    "        return \"Password must contain at least one uppercase letter.\"\n",
    "\n",
    "    # Check for at least one lowercase letter\n",
    "    if not re.search(r\"[a-z]\", password):\n",
    "        return \"Password must contain at least one lowercase letter.\"\n",
    "\n",
    "    # Check for at least one digit\n",
    "    if not re.search(r\"[0-9]\", password):\n",
    "        return \"Password must contain at least one digit.\"\n",
    "\n",
    "    # Check for at least one special character\n",
    "    if not re.search(r\"[!@#$%^&*(),.?\\\":{}|<>]\", password):\n",
    "        return \"Password must contain at least one special character.\"\n",
    "\n",
    "    return \"Password is valid.\"\n",
    "\n",
    "def main():\n",
    "    print(\"Password Validator\")\n",
    "    password = input(\"Enter a password to validate: \")\n",
    "    validation_message = validate_password(password)\n",
    "    print(validation_message)\n",
    "\n",
    "if __name__ == \"__main__\":\n",
    "    main()"
   ]
  },
  {
   "cell_type": "code",
   "execution_count": 17,
   "id": "0cd9826b",
   "metadata": {},
   "outputs": [
    {
     "name": "stdout",
     "output_type": "stream",
     "text": [
      "Matrix Addition and Subtraction\n",
      "Enter the number of rows for the matrices: 2\n",
      "Enter the number of columns for the matrices: 2\n",
      "Enter the elements of matrix A:\n",
      "Element [1][1]: 1\n",
      "Element [1][2]: 4\n",
      "Element [2][1]: 6\n",
      "Element [2][2]: 7\n",
      "Enter the elements of matrix B:\n",
      "Element [1][1]: 9\n",
      "Element [1][2]: 8\n",
      "Element [2][1]: 7\n",
      "Element [2][2]: 6\n",
      "Matrix A:\n",
      "1.0 4.0\n",
      "6.0 7.0\n",
      "Matrix B:\n",
      "9.0 8.0\n",
      "7.0 6.0\n",
      "Enter the operation (+ for addition, - for subtraction): +\n",
      "Matrix A + B:\n",
      "10.0 12.0\n",
      "13.0 13.0\n"
     ]
    }
   ],
   "source": [
    "#32. Develop a program that performs matrix addition and subtraction based on user input.\n",
    "def get_matrix(rows, cols, name):\n",
    "    print(f\"Enter the elements of matrix {name}:\")\n",
    "    matrix = []\n",
    "    for i in range(rows):\n",
    "        row = []\n",
    "        for j in range(cols):\n",
    "            row.append(float(input(f\"Element [{i+1}][{j+1}]: \")))\n",
    "        matrix.append(row)\n",
    "    return matrix\n",
    "\n",
    "def print_matrix(matrix, name):\n",
    "    print(f\"Matrix {name}:\")\n",
    "    for row in matrix:\n",
    "        print(\" \".join(map(str, row)))\n",
    "\n",
    "def add_matrices(matrix1, matrix2):\n",
    "    rows = len(matrix1)\n",
    "    cols = len(matrix1[0])\n",
    "    result = []\n",
    "    for i in range(rows):\n",
    "        row = []\n",
    "        for j in range(cols):\n",
    "            row.append(matrix1[i][j] + matrix2[i][j])\n",
    "        result.append(row)\n",
    "    return result\n",
    "\n",
    "def subtract_matrices(matrix1, matrix2):\n",
    "    rows = len(matrix1)\n",
    "    cols = len(matrix1[0])\n",
    "    result = []\n",
    "    for i in range(rows):\n",
    "        row = []\n",
    "        for j in range(cols):\n",
    "            row.append(matrix1[i][j] - matrix2[i][j])\n",
    "        result.append(row)\n",
    "    return result\n",
    "\n",
    "def main():\n",
    "    print(\"Matrix Addition and Subtraction\")\n",
    "    \n",
    "    rows = int(input(\"Enter the number of rows for the matrices: \"))\n",
    "    cols = int(input(\"Enter the number of columns for the matrices: \"))\n",
    "    \n",
    "    matrix1 = get_matrix(rows, cols, \"A\")\n",
    "    matrix2 = get_matrix(rows, cols, \"B\")\n",
    "    \n",
    "    print_matrix(matrix1, \"A\")\n",
    "    print_matrix(matrix2, \"B\")\n",
    "    \n",
    "    operation = input(\"Enter the operation (+ for addition, - for subtraction): \")\n",
    "    \n",
    "    if operation == \"+\":\n",
    "        result = add_matrices(matrix1, matrix2)\n",
    "        print_matrix(result, \"A + B\")\n",
    "    elif operation == \"-\":\n",
    "        result = subtract_matrices(matrix1, matrix2)\n",
    "        print_matrix(result, \"A - B\")\n",
    "    else:\n",
    "        print(\"Invalid operation.\")\n",
    "\n",
    "if __name__ == \"__main__\":\n",
    "    main()"
   ]
  },
  {
   "cell_type": "code",
   "execution_count": 19,
   "id": "7ff4ae19",
   "metadata": {},
   "outputs": [
    {
     "name": "stdout",
     "output_type": "stream",
     "text": [
      "GCD (Greatest Common Divisor) Calculator\n",
      "Enter the first number: 24\n",
      "Enter the second number: 68\n",
      "The GCD of 24 and 68 is: 4\n"
     ]
    }
   ],
   "source": [
    "#33. Write a program that calculates the greatest common divisor (GCD) of two numbers using the Euclidean algorithm.\n",
    "def gcd(a, b):\n",
    "    while b != 0:\n",
    "        a, b = b, a % b\n",
    "    return a\n",
    "\n",
    "def main():\n",
    "    print(\"GCD (Greatest Common Divisor) Calculator\")\n",
    "    try:\n",
    "        num1 = int(input(\"Enter the first number: \"))\n",
    "        num2 = int(input(\"Enter the second number: \"))\n",
    "        if num1 < 0 or num2 < 0:\n",
    "            raise ValueError(\"Please enter non-negative integers.\")\n",
    "    except ValueError as e:\n",
    "        print(e)\n",
    "        return\n",
    "    \n",
    "    result = gcd(num1, num2)\n",
    "    print(f\"The GCD of {num1} and {num2} is: {result}\")\n",
    "\n",
    "if __name__ == \"__main__\":\n",
    "    main()"
   ]
  },
  {
   "cell_type": "code",
   "execution_count": 21,
   "id": "5475ffcb",
   "metadata": {},
   "outputs": [
    {
     "name": "stdout",
     "output_type": "stream",
     "text": [
      "Matrix Multiplication\n",
      "Enter the number of rows for matrix1: 2\n",
      "Enter the number of columns for matrix1: 2\n",
      "Enter the elements of matrix1:\n",
      "Element [1][1]: 1\n",
      "Element [1][2]: 2\n",
      "Element [2][1]: 3\n",
      "Element [2][2]: 4\n",
      "Enter the number of rows for matrix2: 2\n",
      "Enter the number of columns for matrix2: 2\n",
      "Enter the elements of matrix2:\n",
      "Element [1][1]: 1\n",
      "Element [1][2]: 2\n",
      "Element [2][1]: 3\n",
      "Element [2][2]: 4\n",
      "Matrix A:\n",
      "1.0 2.0\n",
      "3.0 4.0\n",
      "Matrix B:\n",
      "1.0 2.0\n",
      "3.0 4.0\n",
      "Matrix A * B:\n",
      "7.0 10.0\n",
      "15.0 22.0\n"
     ]
    }
   ],
   "source": [
    "#34. Build a program that performs matrix multiplication using nested loops and conditional statements.\n",
    "def matrix_multiply(matrix1, matrix2):\n",
    "    # Dimensions of matrices\n",
    "    rows1 = len(matrix1)\n",
    "    cols1 = len(matrix1[0])\n",
    "    rows2 = len(matrix2)\n",
    "    cols2 = len(matrix2[0])\n",
    "\n",
    "    # Check if matrices can be multiplied\n",
    "    if cols1 != rows2:\n",
    "        print(\"Cannot multiply these matrices. Number of columns in matrix1 must be equal to number of rows in matrix2.\")\n",
    "        return None\n",
    "\n",
    "    # Initialize result matrix with zeros\n",
    "    result = [[0 for _ in range(cols2)] for _ in range(rows1)]\n",
    "\n",
    "    # Perform matrix multiplication\n",
    "    for i in range(rows1):\n",
    "        for j in range(cols2):\n",
    "            for k in range(cols1):\n",
    "                result[i][j] += matrix1[i][k] * matrix2[k][j]\n",
    "\n",
    "    return result\n",
    "\n",
    "def print_matrix(matrix, name):\n",
    "    print(f\"Matrix {name}:\")\n",
    "    for row in matrix:\n",
    "        print(\" \".join(map(str, row)))\n",
    "\n",
    "def main():\n",
    "    print(\"Matrix Multiplication\")\n",
    "    \n",
    "    # Input matrix dimensions and elements\n",
    "    rows1 = int(input(\"Enter the number of rows for matrix1: \"))\n",
    "    cols1 = int(input(\"Enter the number of columns for matrix1: \"))\n",
    "    \n",
    "    matrix1 = []\n",
    "    print(\"Enter the elements of matrix1:\")\n",
    "    for i in range(rows1):\n",
    "        row = []\n",
    "        for j in range(cols1):\n",
    "            row.append(float(input(f\"Element [{i+1}][{j+1}]: \")))\n",
    "        matrix1.append(row)\n",
    "    \n",
    "    rows2 = int(input(\"Enter the number of rows for matrix2: \"))\n",
    "    cols2 = int(input(\"Enter the number of columns for matrix2: \"))\n",
    "    \n",
    "    matrix2 = []\n",
    "    print(\"Enter the elements of matrix2:\")\n",
    "    for i in range(rows2):\n",
    "        row = []\n",
    "        for j in range(cols2):\n",
    "            row.append(float(input(f\"Element [{i+1}][{j+1}]: \")))\n",
    "        matrix2.append(row)\n",
    "    \n",
    "    # Print matrices\n",
    "    print_matrix(matrix1, \"A\")\n",
    "    print_matrix(matrix2, \"B\")\n",
    "    \n",
    "    # Multiply matrices\n",
    "    result = matrix_multiply(matrix1, matrix2)\n",
    "    if result:\n",
    "        print_matrix(result, \"A * B\")\n",
    "\n",
    "if __name__ == \"__main__\":\n",
    "    main()"
   ]
  },
  {
   "cell_type": "code",
   "execution_count": 24,
   "id": "496e0654",
   "metadata": {},
   "outputs": [
    {
     "name": "stdout",
     "output_type": "stream",
     "text": [
      "Welcome to Tic-Tac-Toe against the Computer!\n",
      "You are 'X' and the computer is 'O'.\n",
      "To make a move, enter the row (1-3) and column (1-3) separated by a space.\n",
      "-------------\n",
      "|   |   |   |\n",
      "-------------\n",
      "|   |   |   |\n",
      "-------------\n",
      "|   |   |   |\n",
      "-------------\n",
      "Enter your move (row column): 1\n",
      "Invalid input. Please enter two numbers.\n",
      "Enter your move (row column): 1 2\n",
      "-------------\n",
      "|   | X |   |\n",
      "-------------\n",
      "|   |   |   |\n",
      "-------------\n",
      "|   |   |   |\n",
      "-------------\n",
      "Computer's move:\n",
      "-------------\n",
      "|   | X | O |\n",
      "-------------\n",
      "|   |   |   |\n",
      "-------------\n",
      "|   |   |   |\n",
      "-------------\n",
      "Enter your move (row column): 2 2\n",
      "-------------\n",
      "|   | X | O |\n",
      "-------------\n",
      "|   | X |   |\n",
      "-------------\n",
      "|   |   |   |\n",
      "-------------\n",
      "Computer's move:\n",
      "-------------\n",
      "| O | X | O |\n",
      "-------------\n",
      "|   | X |   |\n",
      "-------------\n",
      "|   |   |   |\n",
      "-------------\n",
      "Enter your move (row column): 3 2\n",
      "-------------\n",
      "| O | X | O |\n",
      "-------------\n",
      "|   | X |   |\n",
      "-------------\n",
      "|   | X |   |\n",
      "-------------\n",
      "Player X wins!\n"
     ]
    }
   ],
   "source": [
    "#35. Create a program that simulates a basic text-based tic-tac-toe game against the computer.\n",
    "import random\n",
    "\n",
    "def print_board(board):\n",
    "    print(\"-------------\")\n",
    "    for row in board:\n",
    "        print(\"| \" + \" | \".join(row) + \" |\")\n",
    "        print(\"-------------\")\n",
    "\n",
    "def check_winner(board, player):\n",
    "    # Check rows\n",
    "    for row in board:\n",
    "        if all(cell == player for cell in row):\n",
    "            return True\n",
    "    \n",
    "    # Check columns\n",
    "    for col in range(3):\n",
    "        if all(board[row][col] == player for row in range(3)):\n",
    "            return True\n",
    "    \n",
    "    # Check diagonals\n",
    "    if all(board[i][i] == player for i in range(3)):\n",
    "        return True\n",
    "    if all(board[i][2-i] == player for i in range(3)):\n",
    "        return True\n",
    "    \n",
    "    return False\n",
    "\n",
    "def is_board_full(board):\n",
    "    return all(cell != \" \" for row in board for cell in row)\n",
    "\n",
    "def computer_move(board):\n",
    "    empty_cells = [(i, j) for i in range(3) for j in range(3) if board[i][j] == \" \"]\n",
    "    return random.choice(empty_cells) if empty_cells else None\n",
    "\n",
    "def main():\n",
    "    print(\"Welcome to Tic-Tac-Toe against the Computer!\")\n",
    "    print(\"You are 'X' and the computer is 'O'.\")\n",
    "    print(\"To make a move, enter the row (1-3) and column (1-3) separated by a space.\")\n",
    "\n",
    "    board = [[\" \" for _ in range(3)] for _ in range(3)]\n",
    "    print_board(board)\n",
    "\n",
    "    current_player = \"X\"\n",
    "    while True:\n",
    "        if current_player == \"X\":\n",
    "            try:\n",
    "                row, col = map(int, input(\"Enter your move (row column): \").split())\n",
    "                if board[row-1][col-1] != \" \":\n",
    "                    print(\"That cell is already taken. Try again.\")\n",
    "                    continue\n",
    "            except ValueError:\n",
    "                print(\"Invalid input. Please enter two numbers.\")\n",
    "                continue\n",
    "            except IndexError:\n",
    "                print(\"Invalid input. Please enter numbers between 1 and 3.\")\n",
    "                continue\n",
    "            board[row-1][col-1] = current_player\n",
    "        else:\n",
    "            print(\"Computer's move:\")\n",
    "            move = computer_move(board)\n",
    "            if move:\n",
    "                row, col = move\n",
    "                board[row][col] = current_player\n",
    "\n",
    "        print_board(board)\n",
    "\n",
    "        if check_winner(board, current_player):\n",
    "            print(f\"Player {current_player} wins!\")\n",
    "            break\n",
    "        elif is_board_full(board):\n",
    "            print(\"It's a tie!\")\n",
    "            break\n",
    "\n",
    "        current_player = \"O\" if current_player == \"X\" else \"X\"\n",
    "\n",
    "if __name__ == \"__main__\":\n",
    "    main()"
   ]
  },
  {
   "cell_type": "code",
   "execution_count": 25,
   "id": "adb2cb45",
   "metadata": {},
   "outputs": [
    {
     "name": "stdout",
     "output_type": "stream",
     "text": [
      "Fibonacci Sequence Generator\n",
      "Enter the number of terms to generate: 5\n",
      "The first 5 terms of the Fibonacci sequence are:\n",
      "0 1 1 2 3\n"
     ]
    }
   ],
   "source": [
    "#36. Write a program that generates Fibonacci numbers up to a specified term using iterative methods.\n",
    "def generate_fibonacci(n):\n",
    "    fibonacci_sequence = []\n",
    "    a, b = 0, 1\n",
    "    for _ in range(n):\n",
    "        fibonacci_sequence.append(a)\n",
    "        a, b = b, a + b\n",
    "    return fibonacci_sequence\n",
    "\n",
    "def main():\n",
    "    print(\"Fibonacci Sequence Generator\")\n",
    "    try:\n",
    "        n = int(input(\"Enter the number of terms to generate: \"))\n",
    "        if n <= 0:\n",
    "            raise ValueError(\"The number of terms must be a positive integer.\")\n",
    "    except ValueError as e:\n",
    "        print(e)\n",
    "        return\n",
    "    \n",
    "    fibonacci_sequence = generate_fibonacci(n)\n",
    "    print(f\"The first {n} terms of the Fibonacci sequence are:\")\n",
    "    print(\" \".join(map(str, fibonacci_sequence)))\n",
    "\n",
    "if __name__ == \"__main__\":\n",
    "    main()"
   ]
  },
  {
   "cell_type": "code",
   "execution_count": 26,
   "id": "3f5351df",
   "metadata": {},
   "outputs": [
    {
     "name": "stdout",
     "output_type": "stream",
     "text": [
      "Enter the value of n to calculate the nth Fibonacci number: 5\n",
      "The 5th Fibonacci number is: 5\n"
     ]
    }
   ],
   "source": [
    "#37. Develop a program that calculates the nth term of the Fibonacci sequence using memoization.\n",
    "# Dictionary to store already computed Fibonacci numbers\n",
    "fibonacci_cache = {}\n",
    "\n",
    "def fibonacci(n):\n",
    "    if n in fibonacci_cache:\n",
    "        return fibonacci_cache[n]\n",
    "    if n <= 1:\n",
    "        return n\n",
    "    else:\n",
    "        # Memoize the result\n",
    "        fibonacci_cache[n] = fibonacci(n-1) + fibonacci(n-2)\n",
    "        return fibonacci_cache[n]\n",
    "\n",
    "def main():\n",
    "    try:\n",
    "        n = int(input(\"Enter the value of n to calculate the nth Fibonacci number: \"))\n",
    "        if n < 0:\n",
    "            raise ValueError(\"n must be a non-negative integer.\")\n",
    "    except ValueError as e:\n",
    "        print(e)\n",
    "        return\n",
    "\n",
    "    result = fibonacci(n)\n",
    "    print(f\"The {n}th Fibonacci number is: {result}\")\n",
    "\n",
    "if __name__ == \"__main__\":\n",
    "    main()"
   ]
  },
  {
   "cell_type": "code",
   "execution_count": 27,
   "id": "e02bded8",
   "metadata": {},
   "outputs": [
    {
     "name": "stdout",
     "output_type": "stream",
     "text": [
      "Enter the year: 2024\n",
      "Enter the month (1-12): 4\n",
      "April 2024\n",
      "Mo Tu We Th Fr Sa Su\n",
      "1  2  3  4  5  6  7 \n",
      "8  9  10 11 12 13 14\n",
      "15 16 17 18 19 20 21\n",
      "22 23 24 25 26 27 28\n",
      "29 30               \n",
      "                    \n"
     ]
    }
   ],
   "source": [
    "#38. Create a program that generates a calendar for a given month and year using conditional statements.\n",
    "import calendar\n",
    "\n",
    "def generate_calendar(year, month):\n",
    "    # Determine the number of days in the month\n",
    "    num_days = calendar.monthrange(year, month)[1]\n",
    "    \n",
    "    # Determine the weekday of the first day of the month (0 - Monday, ..., 6 - Sunday)\n",
    "    start_day_weekday = calendar.weekday(year, month, 1)\n",
    "    \n",
    "    # Initialize the calendar with empty spaces\n",
    "    calendar_grid = [[\" \" for _ in range(7)] for _ in range(6)]\n",
    "    \n",
    "    # Fill in the calendar with the days of the month\n",
    "    day = 1\n",
    "    for i in range(6):\n",
    "        for j in range(7):\n",
    "            if i == 0 and j < start_day_weekday:\n",
    "                continue\n",
    "            if day > num_days:\n",
    "                break\n",
    "            calendar_grid[i][j] = str(day)\n",
    "            day += 1\n",
    "    \n",
    "    return calendar_grid\n",
    "\n",
    "def print_calendar(calendar_grid, year, month):\n",
    "    # Print the month and year\n",
    "    print(calendar.month_name[month], year)\n",
    "    \n",
    "    # Print the days of the week\n",
    "    print(\"Mo Tu We Th Fr Sa Su\")\n",
    "    \n",
    "    # Print each week of the calendar\n",
    "    for week in calendar_grid:\n",
    "        print(\" \".join(f\"{day:2}\" for day in week))\n",
    "\n",
    "def main():\n",
    "    try:\n",
    "        year = int(input(\"Enter the year: \"))\n",
    "        month = int(input(\"Enter the month (1-12): \"))\n",
    "        if month < 1 or month > 12:\n",
    "            raise ValueError(\"Month must be between 1 and 12.\")\n",
    "    except ValueError as e:\n",
    "        print(e)\n",
    "        return\n",
    "    \n",
    "    calendar_grid = generate_calendar(year, month)\n",
    "    print_calendar(calendar_grid, year, month)\n",
    "\n",
    "if __name__ == \"__main__\":\n",
    "    main()"
   ]
  },
  {
   "cell_type": "code",
   "execution_count": 28,
   "id": "6d3b0a34",
   "metadata": {},
   "outputs": [
    {
     "name": "stdout",
     "output_type": "stream",
     "text": [
      "Welcome to Blackjack!\n",
      "\n",
      "Dealer's Hand:\n",
      " <card hidden>\n",
      " Seven of Hearts\n",
      "\n",
      "Player's Hand:\n",
      " King of Spades\n",
      " Six of Spades\n",
      "\n",
      "Would you like to Hit or Stand? Enter 'h' or 's': h\n",
      "\n",
      "Dealer's Hand:\n",
      " <card hidden>\n",
      " Seven of Hearts\n",
      "\n",
      "Player's Hand:\n",
      " King of Spades\n",
      " Six of Spades\n",
      " Five of Diamonds\n",
      "\n",
      "Would you like to Hit or Stand? Enter 'h' or 's': h\n",
      "\n",
      "Dealer's Hand:\n",
      " <card hidden>\n",
      " Seven of Hearts\n",
      "\n",
      "Player's Hand:\n",
      " King of Spades\n",
      " Six of Spades\n",
      " Five of Diamonds\n",
      " Queen of Clubs\n",
      "\n",
      "Player busts! Dealer wins.\n",
      "\n",
      "Would you like to play another hand? Enter 'y' or 'n': n\n",
      "\n",
      "Thanks for playing!\n"
     ]
    }
   ],
   "source": [
    "#39. Build a program that simulates a basic text-based blackjack game against the computer.\n",
    "import random\n",
    "\n",
    "# Define global variables\n",
    "suits = ('Hearts', 'Diamonds', 'Spades', 'Clubs')\n",
    "ranks = ('Two', 'Three', 'Four', 'Five', 'Six', 'Seven', 'Eight', 'Nine', 'Ten', 'Jack', 'Queen', 'King', 'Ace')\n",
    "values = {'Two': 2, 'Three': 3, 'Four': 4, 'Five': 5, 'Six': 6, 'Seven': 7, 'Eight': 8, \n",
    "          'Nine': 9, 'Ten': 10, 'Jack': 10, 'Queen': 10, 'King': 10, 'Ace': 11}\n",
    "\n",
    "class Card:\n",
    "    def __init__(self, suit, rank):\n",
    "        self.suit = suit\n",
    "        self.rank = rank\n",
    "    \n",
    "    def __str__(self):\n",
    "        return f\"{self.rank} of {self.suit}\"\n",
    "\n",
    "class Deck:\n",
    "    def __init__(self):\n",
    "        self.deck = []\n",
    "        for suit in suits:\n",
    "            for rank in ranks:\n",
    "                self.deck.append(Card(suit, rank))\n",
    "    \n",
    "    def shuffle(self):\n",
    "        random.shuffle(self.deck)\n",
    "    \n",
    "    def deal(self):\n",
    "        return self.deck.pop(0)\n",
    "\n",
    "class Hand:\n",
    "    def __init__(self):\n",
    "        self.cards = []\n",
    "        self.value = 0\n",
    "        self.aces = 0\n",
    "    \n",
    "    def add_card(self, card):\n",
    "        self.cards.append(card)\n",
    "        self.value += values[card.rank]\n",
    "        if card.rank == 'Ace':\n",
    "            self.aces += 1\n",
    "    \n",
    "    def adjust_for_ace(self):\n",
    "        while self.value > 21 and self.aces:\n",
    "            self.value -= 10\n",
    "            self.aces -= 1\n",
    "\n",
    "def show_some(player, dealer):\n",
    "    print(\"\\nDealer's Hand:\")\n",
    "    print(\" <card hidden>\")\n",
    "    print(f\" {dealer.cards[1]}\")\n",
    "    print(\"\\nPlayer's Hand:\", *player.cards, sep='\\n ')\n",
    "    \n",
    "def show_all(player, dealer):\n",
    "    print(\"\\nDealer's Hand:\", *dealer.cards, sep='\\n ')\n",
    "    print(\"Dealer's Hand =\", dealer.value)\n",
    "    print(\"\\nPlayer's Hand:\", *player.cards, sep='\\n ')\n",
    "    print(\"Player's Hand =\", player.value)\n",
    "\n",
    "def hit_or_stand(deck, hand):\n",
    "    global playing\n",
    "    while True:\n",
    "        choice = input(\"\\nWould you like to Hit or Stand? Enter 'h' or 's': \").lower()\n",
    "        if choice.startswith('h'):\n",
    "            hand.add_card(deck.deal())\n",
    "            hand.adjust_for_ace()\n",
    "        elif choice.startswith('s'):\n",
    "            print(\"\\nPlayer stands. Dealer is playing.\")\n",
    "            playing = False\n",
    "        else:\n",
    "            print(\"Sorry, please try again.\")\n",
    "            continue\n",
    "        break\n",
    "\n",
    "def player_busts(player, dealer):\n",
    "    print(\"\\nPlayer busts! Dealer wins.\")\n",
    "\n",
    "def player_wins(player, dealer):\n",
    "    print(\"\\nPlayer wins!\")\n",
    "\n",
    "def dealer_busts(player, dealer):\n",
    "    print(\"\\nDealer busts! Player wins.\")\n",
    "\n",
    "def dealer_wins(player, dealer):\n",
    "    print(\"\\nDealer wins!\")\n",
    "\n",
    "def push(player, dealer):\n",
    "    print(\"\\nIt's a tie! Push.\")\n",
    "\n",
    "def main():\n",
    "    global playing\n",
    "    print(\"Welcome to Blackjack!\")\n",
    "\n",
    "    while True:\n",
    "        # Initialize deck and shuffle\n",
    "        deck = Deck()\n",
    "        deck.shuffle()\n",
    "        \n",
    "        # Initialize player and dealer hands\n",
    "        player_hand = Hand()\n",
    "        dealer_hand = Hand()\n",
    "        \n",
    "        # Deal two cards to each player\n",
    "        player_hand.add_card(deck.deal())\n",
    "        player_hand.add_card(deck.deal())\n",
    "        dealer_hand.add_card(deck.deal())\n",
    "        dealer_hand.add_card(deck.deal())\n",
    "        \n",
    "        # Show cards (but keep one dealer card hidden)\n",
    "        show_some(player_hand, dealer_hand)\n",
    "        \n",
    "        while playing:\n",
    "            # Prompt for player to Hit or Stand\n",
    "            hit_or_stand(deck, player_hand)\n",
    "            \n",
    "            # Show cards (but keep one dealer card hidden)\n",
    "            show_some(player_hand, dealer_hand)\n",
    "            \n",
    "            # Check if player busts\n",
    "            if player_hand.value > 21:\n",
    "                player_busts(player_hand, dealer_hand)\n",
    "                break\n",
    "        \n",
    "        # If player hasn't busted, play Dealer's hand until Dealer reaches 17\n",
    "        if player_hand.value <= 21:\n",
    "            while dealer_hand.value < 17:\n",
    "                dealer_hand.add_card(deck.deal())\n",
    "                dealer_hand.adjust_for_ace()\n",
    "            \n",
    "            # Show all cards\n",
    "            show_all(player_hand, dealer_hand)\n",
    "            \n",
    "            # Check for winning scenarios\n",
    "            if dealer_hand.value > 21:\n",
    "                dealer_busts(player_hand, dealer_hand)\n",
    "            elif dealer_hand.value > player_hand.value:\n",
    "                dealer_wins(player_hand, dealer_hand)\n",
    "            elif dealer_hand.value < player_hand.value:\n",
    "                player_wins(player_hand, dealer_hand)\n",
    "            else:\n",
    "                push(player_hand, dealer_hand)\n",
    "        \n",
    "        # Ask to play again\n",
    "        new_game = input(\"\\nWould you like to play another hand? Enter 'y' or 'n': \").lower()\n",
    "        if not new_game.startswith('y'):\n",
    "            print(\"\\nThanks for playing!\")\n",
    "            break\n",
    "        playing = True\n",
    "\n",
    "if __name__ == \"__main__\":\n",
    "    playing = True\n",
    "    main()"
   ]
  },
  {
   "cell_type": "code",
   "execution_count": 30,
   "id": "ac987562",
   "metadata": {},
   "outputs": [
    {
     "name": "stdout",
     "output_type": "stream",
     "text": [
      "Enter a positive integer to find its prime factors: 56\n",
      "The prime factors of 56 are: 2, 2, 2, 7\n"
     ]
    }
   ],
   "source": [
    "#40. Write a program that generates the prime factors of a given number using trial division.\n",
    "def prime_factors(n):\n",
    "    factors = []\n",
    "    divisor = 2\n",
    "    \n",
    "    while n > 1:\n",
    "        while n % divisor == 0:\n",
    "            factors.append(divisor)\n",
    "            n //= divisor\n",
    "        divisor += 1\n",
    "    \n",
    "    return factors\n",
    "\n",
    "def main():\n",
    "    try:\n",
    "        number = int(input(\"Enter a positive integer to find its prime factors: \"))\n",
    "        if number <= 0:\n",
    "            raise ValueError(\"Please enter a positive integer.\")\n",
    "    except ValueError as e:\n",
    "        print(e)\n",
    "        return\n",
    "    \n",
    "    factors = prime_factors(number)\n",
    "    \n",
    "    if len(factors) == 1:\n",
    "        print(f\"The prime factor of {number} is: {factors[0]}\")\n",
    "    else:\n",
    "        print(f\"The prime factors of {number} are: {', '.join(map(str, factors))}\")\n",
    "\n",
    "if __name__ == \"__main__\":\n",
    "    main()"
   ]
  },
  {
   "cell_type": "code",
   "execution_count": null,
   "id": "c76f70c3",
   "metadata": {},
   "outputs": [],
   "source": []
  }
 ],
 "metadata": {
  "kernelspec": {
   "display_name": "Python 3 (ipykernel)",
   "language": "python",
   "name": "python3"
  },
  "language_info": {
   "codemirror_mode": {
    "name": "ipython",
    "version": 3
   },
   "file_extension": ".py",
   "mimetype": "text/x-python",
   "name": "python",
   "nbconvert_exporter": "python",
   "pygments_lexer": "ipython3",
   "version": "3.10.9"
  }
 },
 "nbformat": 4,
 "nbformat_minor": 5
}
